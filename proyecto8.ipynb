{
 "cells": [
  {
   "cell_type": "markdown",
   "metadata": {},
   "source": [
    "### Descripción del proyecto\n",
    "Se te ha ido muy bien en el curso TripleTen y te han ofrecido hacer prácticas en el departamento analítico de Y.Afisha. Tu primera tarea es ayudar a optimizar los gastos de marketing.\n",
    "\n",
    "Lo que tienes:\n",
    "\n",
    "* registros del servidor con datos sobre las visitas a Y.Afisha desde enero de 2017 hasta diciembre de 2018;\n",
    "* un archivo con los pedidos en este periodo;\n",
    "* estadísticas de gastos de marketing.\n",
    "\n",
    "Lo que vas a investigar:\n",
    "\n",
    "* cómo los clientes usan el servicio;\n",
    "* cuándo empiezan a comprar;\n",
    "* cuánto dinero aporta cada cliente a la compañía;\n",
    "* cuándo los ingresos cubren el costo de adquisición de los clientes."
   ]
  },
  {
   "cell_type": "markdown",
   "metadata": {},
   "source": [
    "### Instrucciones para completar el proyecto\n",
    "\n",
    "#### Paso 1. Descarga los datos y prepáralos para el análisis\n",
    "\n",
    "Almacena los datos de visitas, pedidos y gastos en variables.  Optimiza los datos para el análisis. Asegúrate de que cada columna contenga el tipo de datos correcto.\n",
    "\n",
    "Rutas de archivos: \n",
    "\n",
    "* /datasets/visits_log_us.csv. \n",
    "* /datasets/orders_log_us.csv. \n",
    "* /datasets/costs_us.csv.\n",
    "\n",
    "\n",
    "#### Paso 2. Haz informes y calcula métricas \n",
    "\n",
    "Visitas:\n",
    "\n",
    "* ¿Cuántas personas lo usan cada día, semana y mes?\n",
    "* ¿Cuántas sesiones hay por día? (Un/a usuario/a puede tener más de una sesión).\n",
    "* ¿Cuál es la duración de cada sesión?\n",
    "* ¿Con qué frecuencia los usuarios y las usuarias regresan?\n",
    "\n",
    "Ventas:\n",
    " \n",
    "¿Cuándo la gente empieza a comprar? (En el análisis de KPI, generalmente nos interesa saber el tiempo que transcurre entre el registro y la conversión, es decir, cuando el/la usuario/a se convierte en cliente. Por ejemplo, si el registro y la primera compra ocurren el mismo día, el/la usuario/a podría caer en la categoría Conversion 0d. Si la primera compra ocurre al día siguiente, será Conversion 1d.  Puedes usar cualquier enfoque que te permita comparar las conversiones de diferentes cohortes para que puedas determinar qué cohorte o canal de marketing es más efectivo).\n",
    "\n",
    "* ¿Cuántos pedidos hacen durante un período de tiempo dado?\n",
    "* ¿Cuál es el tamaño promedio de compra?\n",
    "* ¿Cuánto dinero traen? (LTV)\n",
    "\n",
    "Marketing:\n",
    " \n",
    "* ¿Cuánto dinero se gastó? (Total/por fuente de adquisición/a lo largo del tiempo)\n",
    "* ¿Cuál fue el costo de adquisición de clientes de cada una de las fuentes?\n",
    "* ¿Cuán rentables eran las inversiones? (ROMI)\n",
    "\n",
    "Traza gráficos para mostrar cómo difieren estas métricas para varios dispositivos y fuentes de anuncios y cómo cambian con el tiempo. \n",
    "\n",
    "#### Paso 3. Escribe una conclusión: aconseja a los expertos de marketing cuánto dinero invertir y dónde\n",
    "\n",
    "¿Qué fuentes/plataformas recomendarías?  Fundamenta tu selección: ¿en qué métricas te enfocaste?  ¿Por qué? ¿Qué conclusiones sacaste después de encontrar los valores métricos?\n",
    "\n",
    "Formato: Completa la tarea en un Jupyter Notebook. Inserta el código en las celdas code y las explicaciones de texto en las celdas markdown. Aplica formato y encabezados.\n",
    "\n",
    "#### Descripción de los datos\n",
    "\n",
    "La tabla visits (registros del servidor con datos sobre las visitas al sitio web):\n",
    "\n",
    "* Uid: identificador único del usuario;\n",
    "* Device: dispositivo del usuario;\n",
    "* Start Ts: fecha y hora de inicio de la sesión;\n",
    "* End Ts: fecha y hora de término de la sesión;\n",
    "* Source Id: identificador de la fuente de anuncios de la que proviene el usuario.\n",
    "* Todas las fechas de esta tabla están en formato AAAA-MM-DD.\n",
    "\n",
    "La tabla orders (datos sobre pedidos):\n",
    "\n",
    "* Uid: identificador único del usuario que realiza un pedido;\n",
    "* Buy Ts: fecha y hora del pedido;\n",
    "* Revenue: ingresos de Y.Afisha de este pedido.\n",
    "\n",
    "\n",
    "La tabla costs (datos sobre gastos de marketing):\n",
    "\n",
    "* source_id: identificador de la fuente de anuncios\n",
    "* dt: fecha;\n",
    "* costs: gastos en esta fuente de anuncios en este día."
   ]
  },
  {
   "cell_type": "markdown",
   "metadata": {},
   "source": [
    "# 1. Descarga los datos y prepáralos para el análisis"
   ]
  },
  {
   "cell_type": "markdown",
   "metadata": {},
   "source": [
    "## 1.1. Librerias "
   ]
  },
  {
   "cell_type": "code",
   "execution_count": 1,
   "metadata": {},
   "outputs": [],
   "source": [
    "import pandas as pd\n",
    "import numpy as np\n",
    "from scipy import stats as st\n",
    "import plotly.express as px\n",
    "import plotly.graph_objects as go\n",
    "import matplotlib.pyplot as plt\n",
    "import seaborn as sns"
   ]
  },
  {
   "cell_type": "markdown",
   "metadata": {},
   "source": [
    "## 1.2 Preparar los Datos "
   ]
  },
  {
   "cell_type": "code",
   "execution_count": 2,
   "metadata": {},
   "outputs": [],
   "source": [
    "visits = pd.read_csv('/datasets/visits_log_us.csv')\n",
    "orders = pd.read_csv('/datasets/orders_log_us.csv')\n",
    "costs = pd.read_csv('/datasets/costs_us.csv')"
   ]
  },
  {
   "cell_type": "code",
   "execution_count": 3,
   "metadata": {},
   "outputs": [
    {
     "data": {
      "text/html": [
       "<div>\n",
       "<style scoped>\n",
       "    .dataframe tbody tr th:only-of-type {\n",
       "        vertical-align: middle;\n",
       "    }\n",
       "\n",
       "    .dataframe tbody tr th {\n",
       "        vertical-align: top;\n",
       "    }\n",
       "\n",
       "    .dataframe thead th {\n",
       "        text-align: right;\n",
       "    }\n",
       "</style>\n",
       "<table border=\"1\" class=\"dataframe\">\n",
       "  <thead>\n",
       "    <tr style=\"text-align: right;\">\n",
       "      <th></th>\n",
       "      <th>Device</th>\n",
       "      <th>End Ts</th>\n",
       "      <th>Source Id</th>\n",
       "      <th>Start Ts</th>\n",
       "      <th>Uid</th>\n",
       "    </tr>\n",
       "  </thead>\n",
       "  <tbody>\n",
       "    <tr>\n",
       "      <th>0</th>\n",
       "      <td>touch</td>\n",
       "      <td>2017-12-20 17:38:00</td>\n",
       "      <td>4</td>\n",
       "      <td>2017-12-20 17:20:00</td>\n",
       "      <td>16879256277535980062</td>\n",
       "    </tr>\n",
       "    <tr>\n",
       "      <th>1</th>\n",
       "      <td>desktop</td>\n",
       "      <td>2018-02-19 17:21:00</td>\n",
       "      <td>2</td>\n",
       "      <td>2018-02-19 16:53:00</td>\n",
       "      <td>104060357244891740</td>\n",
       "    </tr>\n",
       "    <tr>\n",
       "      <th>2</th>\n",
       "      <td>touch</td>\n",
       "      <td>2017-07-01 01:54:00</td>\n",
       "      <td>5</td>\n",
       "      <td>2017-07-01 01:54:00</td>\n",
       "      <td>7459035603376831527</td>\n",
       "    </tr>\n",
       "    <tr>\n",
       "      <th>3</th>\n",
       "      <td>desktop</td>\n",
       "      <td>2018-05-20 11:23:00</td>\n",
       "      <td>9</td>\n",
       "      <td>2018-05-20 10:59:00</td>\n",
       "      <td>16174680259334210214</td>\n",
       "    </tr>\n",
       "    <tr>\n",
       "      <th>4</th>\n",
       "      <td>desktop</td>\n",
       "      <td>2017-12-27 14:06:00</td>\n",
       "      <td>3</td>\n",
       "      <td>2017-12-27 14:06:00</td>\n",
       "      <td>9969694820036681168</td>\n",
       "    </tr>\n",
       "  </tbody>\n",
       "</table>\n",
       "</div>"
      ],
      "text/plain": [
       "    Device               End Ts  Source Id             Start Ts  \\\n",
       "0    touch  2017-12-20 17:38:00          4  2017-12-20 17:20:00   \n",
       "1  desktop  2018-02-19 17:21:00          2  2018-02-19 16:53:00   \n",
       "2    touch  2017-07-01 01:54:00          5  2017-07-01 01:54:00   \n",
       "3  desktop  2018-05-20 11:23:00          9  2018-05-20 10:59:00   \n",
       "4  desktop  2017-12-27 14:06:00          3  2017-12-27 14:06:00   \n",
       "\n",
       "                    Uid  \n",
       "0  16879256277535980062  \n",
       "1    104060357244891740  \n",
       "2   7459035603376831527  \n",
       "3  16174680259334210214  \n",
       "4   9969694820036681168  "
      ]
     },
     "execution_count": 3,
     "metadata": {},
     "output_type": "execute_result"
    }
   ],
   "source": [
    "visits.head()"
   ]
  },
  {
   "cell_type": "code",
   "execution_count": 4,
   "metadata": {},
   "outputs": [
    {
     "name": "stdout",
     "output_type": "stream",
     "text": [
      "<class 'pandas.core.frame.DataFrame'>\n",
      "RangeIndex: 359400 entries, 0 to 359399\n",
      "Data columns (total 5 columns):\n",
      " #   Column     Non-Null Count   Dtype \n",
      "---  ------     --------------   ----- \n",
      " 0   Device     359400 non-null  object\n",
      " 1   End Ts     359400 non-null  object\n",
      " 2   Source Id  359400 non-null  int64 \n",
      " 3   Start Ts   359400 non-null  object\n",
      " 4   Uid        359400 non-null  uint64\n",
      "dtypes: int64(1), object(3), uint64(1)\n",
      "memory usage: 13.7+ MB\n"
     ]
    }
   ],
   "source": [
    "visits.info()"
   ]
  },
  {
   "cell_type": "markdown",
   "metadata": {},
   "source": [
    "Convertimos las columnas 'Device', 'End Ts', 'Start Ts'"
   ]
  },
  {
   "cell_type": "code",
   "execution_count": 5,
   "metadata": {},
   "outputs": [],
   "source": [
    "visits['Device'] = visits['Device'].astype('category')\n",
    "visits['Start Ts'] = pd.to_datetime(visits['Start Ts'])\n",
    "visits['End Ts'] = pd.to_datetime(visits['End Ts'])"
   ]
  },
  {
   "cell_type": "code",
   "execution_count": 6,
   "metadata": {},
   "outputs": [
    {
     "name": "stdout",
     "output_type": "stream",
     "text": [
      "<class 'pandas.core.frame.DataFrame'>\n",
      "RangeIndex: 359400 entries, 0 to 359399\n",
      "Data columns (total 5 columns):\n",
      " #   Column     Non-Null Count   Dtype         \n",
      "---  ------     --------------   -----         \n",
      " 0   Device     359400 non-null  category      \n",
      " 1   End Ts     359400 non-null  datetime64[ns]\n",
      " 2   Source Id  359400 non-null  int64         \n",
      " 3   Start Ts   359400 non-null  datetime64[ns]\n",
      " 4   Uid        359400 non-null  uint64        \n",
      "dtypes: category(1), datetime64[ns](2), int64(1), uint64(1)\n",
      "memory usage: 11.3 MB\n"
     ]
    }
   ],
   "source": [
    "visits.info()"
   ]
  },
  {
   "cell_type": "markdown",
   "metadata": {},
   "source": [
    "Verificamos si tenemos datos duplicados"
   ]
  },
  {
   "cell_type": "code",
   "execution_count": 7,
   "metadata": {},
   "outputs": [
    {
     "data": {
      "text/plain": [
       "0"
      ]
     },
     "execution_count": 7,
     "metadata": {},
     "output_type": "execute_result"
    }
   ],
   "source": [
    "duplicados=visits.duplicated().sum()\n",
    "duplicados"
   ]
  },
  {
   "cell_type": "markdown",
   "metadata": {},
   "source": [
    "Verificamos si tenemos datos nulos"
   ]
  },
  {
   "cell_type": "code",
   "execution_count": 8,
   "metadata": {},
   "outputs": [
    {
     "data": {
      "text/plain": [
       "Device       0\n",
       "End Ts       0\n",
       "Source Id    0\n",
       "Start Ts     0\n",
       "Uid          0\n",
       "dtype: int64"
      ]
     },
     "execution_count": 8,
     "metadata": {},
     "output_type": "execute_result"
    }
   ],
   "source": [
    "valores_nulos=visits.isnull().sum()\n",
    "valores_nulos"
   ]
  },
  {
   "cell_type": "code",
   "execution_count": 9,
   "metadata": {},
   "outputs": [
    {
     "data": {
      "text/html": [
       "<div>\n",
       "<style scoped>\n",
       "    .dataframe tbody tr th:only-of-type {\n",
       "        vertical-align: middle;\n",
       "    }\n",
       "\n",
       "    .dataframe tbody tr th {\n",
       "        vertical-align: top;\n",
       "    }\n",
       "\n",
       "    .dataframe thead th {\n",
       "        text-align: right;\n",
       "    }\n",
       "</style>\n",
       "<table border=\"1\" class=\"dataframe\">\n",
       "  <thead>\n",
       "    <tr style=\"text-align: right;\">\n",
       "      <th></th>\n",
       "      <th>Buy Ts</th>\n",
       "      <th>Revenue</th>\n",
       "      <th>Uid</th>\n",
       "    </tr>\n",
       "  </thead>\n",
       "  <tbody>\n",
       "    <tr>\n",
       "      <th>0</th>\n",
       "      <td>2017-06-01 00:10:00</td>\n",
       "      <td>17.00</td>\n",
       "      <td>10329302124590727494</td>\n",
       "    </tr>\n",
       "    <tr>\n",
       "      <th>1</th>\n",
       "      <td>2017-06-01 00:25:00</td>\n",
       "      <td>0.55</td>\n",
       "      <td>11627257723692907447</td>\n",
       "    </tr>\n",
       "    <tr>\n",
       "      <th>2</th>\n",
       "      <td>2017-06-01 00:27:00</td>\n",
       "      <td>0.37</td>\n",
       "      <td>17903680561304213844</td>\n",
       "    </tr>\n",
       "    <tr>\n",
       "      <th>3</th>\n",
       "      <td>2017-06-01 00:29:00</td>\n",
       "      <td>0.55</td>\n",
       "      <td>16109239769442553005</td>\n",
       "    </tr>\n",
       "    <tr>\n",
       "      <th>4</th>\n",
       "      <td>2017-06-01 07:58:00</td>\n",
       "      <td>0.37</td>\n",
       "      <td>14200605875248379450</td>\n",
       "    </tr>\n",
       "  </tbody>\n",
       "</table>\n",
       "</div>"
      ],
      "text/plain": [
       "                Buy Ts  Revenue                   Uid\n",
       "0  2017-06-01 00:10:00    17.00  10329302124590727494\n",
       "1  2017-06-01 00:25:00     0.55  11627257723692907447\n",
       "2  2017-06-01 00:27:00     0.37  17903680561304213844\n",
       "3  2017-06-01 00:29:00     0.55  16109239769442553005\n",
       "4  2017-06-01 07:58:00     0.37  14200605875248379450"
      ]
     },
     "execution_count": 9,
     "metadata": {},
     "output_type": "execute_result"
    }
   ],
   "source": [
    "orders.head()"
   ]
  },
  {
   "cell_type": "code",
   "execution_count": 10,
   "metadata": {},
   "outputs": [
    {
     "name": "stdout",
     "output_type": "stream",
     "text": [
      "<class 'pandas.core.frame.DataFrame'>\n",
      "RangeIndex: 50415 entries, 0 to 50414\n",
      "Data columns (total 3 columns):\n",
      " #   Column   Non-Null Count  Dtype  \n",
      "---  ------   --------------  -----  \n",
      " 0   Buy Ts   50415 non-null  object \n",
      " 1   Revenue  50415 non-null  float64\n",
      " 2   Uid      50415 non-null  uint64 \n",
      "dtypes: float64(1), object(1), uint64(1)\n",
      "memory usage: 1.2+ MB\n"
     ]
    }
   ],
   "source": [
    "orders.info()"
   ]
  },
  {
   "cell_type": "markdown",
   "metadata": {},
   "source": [
    "Convertimos la columna 'Buy Ts'"
   ]
  },
  {
   "cell_type": "code",
   "execution_count": 11,
   "metadata": {},
   "outputs": [
    {
     "name": "stdout",
     "output_type": "stream",
     "text": [
      "<class 'pandas.core.frame.DataFrame'>\n",
      "RangeIndex: 50415 entries, 0 to 50414\n",
      "Data columns (total 3 columns):\n",
      " #   Column   Non-Null Count  Dtype         \n",
      "---  ------   --------------  -----         \n",
      " 0   Buy Ts   50415 non-null  datetime64[ns]\n",
      " 1   Revenue  50415 non-null  float64       \n",
      " 2   Uid      50415 non-null  uint64        \n",
      "dtypes: datetime64[ns](1), float64(1), uint64(1)\n",
      "memory usage: 1.2 MB\n"
     ]
    }
   ],
   "source": [
    "orders['Buy Ts']=pd.to_datetime(orders['Buy Ts'])\n",
    "orders.info()"
   ]
  },
  {
   "cell_type": "markdown",
   "metadata": {},
   "source": [
    "Verificamos si tenemos datos duplicados"
   ]
  },
  {
   "cell_type": "code",
   "execution_count": 12,
   "metadata": {},
   "outputs": [
    {
     "data": {
      "text/plain": [
       "0"
      ]
     },
     "execution_count": 12,
     "metadata": {},
     "output_type": "execute_result"
    }
   ],
   "source": [
    "ordenes_duplicadas=orders.duplicated().sum()\n",
    "ordenes_duplicadas"
   ]
  },
  {
   "cell_type": "markdown",
   "metadata": {},
   "source": [
    "Verificamos si tenemos datos nulos"
   ]
  },
  {
   "cell_type": "code",
   "execution_count": 13,
   "metadata": {},
   "outputs": [
    {
     "data": {
      "text/plain": [
       "Buy Ts     0\n",
       "Revenue    0\n",
       "Uid        0\n",
       "dtype: int64"
      ]
     },
     "execution_count": 13,
     "metadata": {},
     "output_type": "execute_result"
    }
   ],
   "source": [
    "nulos=orders.isnull().sum()\n",
    "nulos"
   ]
  },
  {
   "cell_type": "code",
   "execution_count": 14,
   "metadata": {},
   "outputs": [
    {
     "data": {
      "text/html": [
       "<div>\n",
       "<style scoped>\n",
       "    .dataframe tbody tr th:only-of-type {\n",
       "        vertical-align: middle;\n",
       "    }\n",
       "\n",
       "    .dataframe tbody tr th {\n",
       "        vertical-align: top;\n",
       "    }\n",
       "\n",
       "    .dataframe thead th {\n",
       "        text-align: right;\n",
       "    }\n",
       "</style>\n",
       "<table border=\"1\" class=\"dataframe\">\n",
       "  <thead>\n",
       "    <tr style=\"text-align: right;\">\n",
       "      <th></th>\n",
       "      <th>source_id</th>\n",
       "      <th>dt</th>\n",
       "      <th>costs</th>\n",
       "    </tr>\n",
       "  </thead>\n",
       "  <tbody>\n",
       "    <tr>\n",
       "      <th>0</th>\n",
       "      <td>1</td>\n",
       "      <td>2017-06-01</td>\n",
       "      <td>75.20</td>\n",
       "    </tr>\n",
       "    <tr>\n",
       "      <th>1</th>\n",
       "      <td>1</td>\n",
       "      <td>2017-06-02</td>\n",
       "      <td>62.25</td>\n",
       "    </tr>\n",
       "    <tr>\n",
       "      <th>2</th>\n",
       "      <td>1</td>\n",
       "      <td>2017-06-03</td>\n",
       "      <td>36.53</td>\n",
       "    </tr>\n",
       "    <tr>\n",
       "      <th>3</th>\n",
       "      <td>1</td>\n",
       "      <td>2017-06-04</td>\n",
       "      <td>55.00</td>\n",
       "    </tr>\n",
       "    <tr>\n",
       "      <th>4</th>\n",
       "      <td>1</td>\n",
       "      <td>2017-06-05</td>\n",
       "      <td>57.08</td>\n",
       "    </tr>\n",
       "  </tbody>\n",
       "</table>\n",
       "</div>"
      ],
      "text/plain": [
       "   source_id          dt  costs\n",
       "0          1  2017-06-01  75.20\n",
       "1          1  2017-06-02  62.25\n",
       "2          1  2017-06-03  36.53\n",
       "3          1  2017-06-04  55.00\n",
       "4          1  2017-06-05  57.08"
      ]
     },
     "execution_count": 14,
     "metadata": {},
     "output_type": "execute_result"
    }
   ],
   "source": [
    "costs.head()"
   ]
  },
  {
   "cell_type": "code",
   "execution_count": 15,
   "metadata": {},
   "outputs": [
    {
     "name": "stdout",
     "output_type": "stream",
     "text": [
      "<class 'pandas.core.frame.DataFrame'>\n",
      "RangeIndex: 2542 entries, 0 to 2541\n",
      "Data columns (total 3 columns):\n",
      " #   Column     Non-Null Count  Dtype  \n",
      "---  ------     --------------  -----  \n",
      " 0   source_id  2542 non-null   int64  \n",
      " 1   dt         2542 non-null   object \n",
      " 2   costs      2542 non-null   float64\n",
      "dtypes: float64(1), int64(1), object(1)\n",
      "memory usage: 59.7+ KB\n"
     ]
    }
   ],
   "source": [
    "costs.info()"
   ]
  },
  {
   "cell_type": "markdown",
   "metadata": {},
   "source": [
    "Convertimos la columna 'dt'"
   ]
  },
  {
   "cell_type": "code",
   "execution_count": 16,
   "metadata": {},
   "outputs": [
    {
     "name": "stdout",
     "output_type": "stream",
     "text": [
      "<class 'pandas.core.frame.DataFrame'>\n",
      "RangeIndex: 2542 entries, 0 to 2541\n",
      "Data columns (total 3 columns):\n",
      " #   Column     Non-Null Count  Dtype         \n",
      "---  ------     --------------  -----         \n",
      " 0   source_id  2542 non-null   int64         \n",
      " 1   dt         2542 non-null   datetime64[ns]\n",
      " 2   costs      2542 non-null   float64       \n",
      "dtypes: datetime64[ns](1), float64(1), int64(1)\n",
      "memory usage: 59.7 KB\n"
     ]
    }
   ],
   "source": [
    "costs['dt']=pd.to_datetime(costs['dt'])\n",
    "costs.info()"
   ]
  },
  {
   "cell_type": "markdown",
   "metadata": {},
   "source": [
    "Verificamos si tenemos datos duplicados"
   ]
  },
  {
   "cell_type": "code",
   "execution_count": 17,
   "metadata": {},
   "outputs": [
    {
     "data": {
      "text/plain": [
       "0"
      ]
     },
     "execution_count": 17,
     "metadata": {},
     "output_type": "execute_result"
    }
   ],
   "source": [
    "duplicados=costs.duplicated().sum()\n",
    "duplicados"
   ]
  },
  {
   "cell_type": "markdown",
   "metadata": {},
   "source": [
    "Verificamos si tenemos datos nulos"
   ]
  },
  {
   "cell_type": "code",
   "execution_count": 18,
   "metadata": {},
   "outputs": [
    {
     "data": {
      "text/plain": [
       "source_id    0\n",
       "dt           0\n",
       "costs        0\n",
       "dtype: int64"
      ]
     },
     "execution_count": 18,
     "metadata": {},
     "output_type": "execute_result"
    }
   ],
   "source": [
    "nulos=costs.isnull().sum()\n",
    "nulos"
   ]
  },
  {
   "cell_type": "markdown",
   "metadata": {},
   "source": [
    "Por ultimo para el mejor manejo de todas las columnas los nombres a minusculas"
   ]
  },
  {
   "cell_type": "code",
   "execution_count": 19,
   "metadata": {},
   "outputs": [],
   "source": [
    "orders.rename(columns={'Buy Ts':'buy_ts',\n",
    "                          'Revenue':'revenue',\n",
    "                          'Uid':'uid'}, \n",
    "                 inplace=True)"
   ]
  },
  {
   "cell_type": "code",
   "execution_count": 20,
   "metadata": {},
   "outputs": [],
   "source": [
    "visits.rename(columns={'Device':'device',\n",
    "                          'End Ts':'end_ts',\n",
    "                          'Source Id': 'source_id',\n",
    "                          'Start Ts':'start_ts',\n",
    "                          'Uid':'uid'}, \n",
    "                 inplace=True)"
   ]
  },
  {
   "cell_type": "markdown",
   "metadata": {},
   "source": [
    "## Visitas\n"
   ]
  },
  {
   "cell_type": "code",
   "execution_count": 21,
   "metadata": {},
   "outputs": [
    {
     "data": {
      "text/html": [
       "<div>\n",
       "<style scoped>\n",
       "    .dataframe tbody tr th:only-of-type {\n",
       "        vertical-align: middle;\n",
       "    }\n",
       "\n",
       "    .dataframe tbody tr th {\n",
       "        vertical-align: top;\n",
       "    }\n",
       "\n",
       "    .dataframe thead th {\n",
       "        text-align: right;\n",
       "    }\n",
       "</style>\n",
       "<table border=\"1\" class=\"dataframe\">\n",
       "  <thead>\n",
       "    <tr style=\"text-align: right;\">\n",
       "      <th></th>\n",
       "      <th>device</th>\n",
       "      <th>end_ts</th>\n",
       "      <th>source_id</th>\n",
       "      <th>start_ts</th>\n",
       "      <th>uid</th>\n",
       "    </tr>\n",
       "  </thead>\n",
       "  <tbody>\n",
       "    <tr>\n",
       "      <th>0</th>\n",
       "      <td>touch</td>\n",
       "      <td>2017-12-20 17:38:00</td>\n",
       "      <td>4</td>\n",
       "      <td>2017-12-20 17:20:00</td>\n",
       "      <td>16879256277535980062</td>\n",
       "    </tr>\n",
       "    <tr>\n",
       "      <th>1</th>\n",
       "      <td>desktop</td>\n",
       "      <td>2018-02-19 17:21:00</td>\n",
       "      <td>2</td>\n",
       "      <td>2018-02-19 16:53:00</td>\n",
       "      <td>104060357244891740</td>\n",
       "    </tr>\n",
       "    <tr>\n",
       "      <th>2</th>\n",
       "      <td>touch</td>\n",
       "      <td>2017-07-01 01:54:00</td>\n",
       "      <td>5</td>\n",
       "      <td>2017-07-01 01:54:00</td>\n",
       "      <td>7459035603376831527</td>\n",
       "    </tr>\n",
       "    <tr>\n",
       "      <th>3</th>\n",
       "      <td>desktop</td>\n",
       "      <td>2018-05-20 11:23:00</td>\n",
       "      <td>9</td>\n",
       "      <td>2018-05-20 10:59:00</td>\n",
       "      <td>16174680259334210214</td>\n",
       "    </tr>\n",
       "    <tr>\n",
       "      <th>4</th>\n",
       "      <td>desktop</td>\n",
       "      <td>2017-12-27 14:06:00</td>\n",
       "      <td>3</td>\n",
       "      <td>2017-12-27 14:06:00</td>\n",
       "      <td>9969694820036681168</td>\n",
       "    </tr>\n",
       "  </tbody>\n",
       "</table>\n",
       "</div>"
      ],
      "text/plain": [
       "    device              end_ts  source_id            start_ts  \\\n",
       "0    touch 2017-12-20 17:38:00          4 2017-12-20 17:20:00   \n",
       "1  desktop 2018-02-19 17:21:00          2 2018-02-19 16:53:00   \n",
       "2    touch 2017-07-01 01:54:00          5 2017-07-01 01:54:00   \n",
       "3  desktop 2018-05-20 11:23:00          9 2018-05-20 10:59:00   \n",
       "4  desktop 2017-12-27 14:06:00          3 2017-12-27 14:06:00   \n",
       "\n",
       "                    uid  \n",
       "0  16879256277535980062  \n",
       "1    104060357244891740  \n",
       "2   7459035603376831527  \n",
       "3  16174680259334210214  \n",
       "4   9969694820036681168  "
      ]
     },
     "execution_count": 21,
     "metadata": {},
     "output_type": "execute_result"
    }
   ],
   "source": [
    "visits.head()"
   ]
  },
  {
   "cell_type": "code",
   "execution_count": 22,
   "metadata": {},
   "outputs": [
    {
     "name": "stdout",
     "output_type": "stream",
     "text": [
      "<class 'pandas.core.frame.DataFrame'>\n",
      "RangeIndex: 359400 entries, 0 to 359399\n",
      "Data columns (total 5 columns):\n",
      " #   Column     Non-Null Count   Dtype         \n",
      "---  ------     --------------   -----         \n",
      " 0   device     359400 non-null  category      \n",
      " 1   end_ts     359400 non-null  datetime64[ns]\n",
      " 2   source_id  359400 non-null  int64         \n",
      " 3   start_ts   359400 non-null  datetime64[ns]\n",
      " 4   uid        359400 non-null  uint64        \n",
      "dtypes: category(1), datetime64[ns](2), int64(1), uint64(1)\n",
      "memory usage: 11.3 MB\n"
     ]
    }
   ],
   "source": [
    "visits.info()"
   ]
  },
  {
   "cell_type": "markdown",
   "metadata": {},
   "source": [
    "#### ¿Cuántas personas lo usan cada día, semana y mes?"
   ]
  },
  {
   "cell_type": "code",
   "execution_count": 23,
   "metadata": {},
   "outputs": [],
   "source": [
    "visits['session_year'] = visits['start_ts'].dt.year\n",
    "visits['session_month'] = visits['start_ts'].dt.month\n",
    "visits['session_week'] = visits['start_ts'].dt.isocalendar().week\n",
    "visits['session_date'] = visits['start_ts'].dt.date"
   ]
  },
  {
   "cell_type": "code",
   "execution_count": 24,
   "metadata": {},
   "outputs": [
    {
     "data": {
      "text/html": [
       "<div>\n",
       "<style scoped>\n",
       "    .dataframe tbody tr th:only-of-type {\n",
       "        vertical-align: middle;\n",
       "    }\n",
       "\n",
       "    .dataframe tbody tr th {\n",
       "        vertical-align: top;\n",
       "    }\n",
       "\n",
       "    .dataframe thead th {\n",
       "        text-align: right;\n",
       "    }\n",
       "</style>\n",
       "<table border=\"1\" class=\"dataframe\">\n",
       "  <thead>\n",
       "    <tr style=\"text-align: right;\">\n",
       "      <th></th>\n",
       "      <th>device</th>\n",
       "      <th>end_ts</th>\n",
       "      <th>source_id</th>\n",
       "      <th>start_ts</th>\n",
       "      <th>uid</th>\n",
       "      <th>session_year</th>\n",
       "      <th>session_month</th>\n",
       "      <th>session_week</th>\n",
       "      <th>session_date</th>\n",
       "    </tr>\n",
       "  </thead>\n",
       "  <tbody>\n",
       "    <tr>\n",
       "      <th>0</th>\n",
       "      <td>touch</td>\n",
       "      <td>2017-12-20 17:38:00</td>\n",
       "      <td>4</td>\n",
       "      <td>2017-12-20 17:20:00</td>\n",
       "      <td>16879256277535980062</td>\n",
       "      <td>2017</td>\n",
       "      <td>12</td>\n",
       "      <td>51</td>\n",
       "      <td>2017-12-20</td>\n",
       "    </tr>\n",
       "    <tr>\n",
       "      <th>1</th>\n",
       "      <td>desktop</td>\n",
       "      <td>2018-02-19 17:21:00</td>\n",
       "      <td>2</td>\n",
       "      <td>2018-02-19 16:53:00</td>\n",
       "      <td>104060357244891740</td>\n",
       "      <td>2018</td>\n",
       "      <td>2</td>\n",
       "      <td>8</td>\n",
       "      <td>2018-02-19</td>\n",
       "    </tr>\n",
       "    <tr>\n",
       "      <th>2</th>\n",
       "      <td>touch</td>\n",
       "      <td>2017-07-01 01:54:00</td>\n",
       "      <td>5</td>\n",
       "      <td>2017-07-01 01:54:00</td>\n",
       "      <td>7459035603376831527</td>\n",
       "      <td>2017</td>\n",
       "      <td>7</td>\n",
       "      <td>26</td>\n",
       "      <td>2017-07-01</td>\n",
       "    </tr>\n",
       "    <tr>\n",
       "      <th>3</th>\n",
       "      <td>desktop</td>\n",
       "      <td>2018-05-20 11:23:00</td>\n",
       "      <td>9</td>\n",
       "      <td>2018-05-20 10:59:00</td>\n",
       "      <td>16174680259334210214</td>\n",
       "      <td>2018</td>\n",
       "      <td>5</td>\n",
       "      <td>20</td>\n",
       "      <td>2018-05-20</td>\n",
       "    </tr>\n",
       "    <tr>\n",
       "      <th>4</th>\n",
       "      <td>desktop</td>\n",
       "      <td>2017-12-27 14:06:00</td>\n",
       "      <td>3</td>\n",
       "      <td>2017-12-27 14:06:00</td>\n",
       "      <td>9969694820036681168</td>\n",
       "      <td>2017</td>\n",
       "      <td>12</td>\n",
       "      <td>52</td>\n",
       "      <td>2017-12-27</td>\n",
       "    </tr>\n",
       "  </tbody>\n",
       "</table>\n",
       "</div>"
      ],
      "text/plain": [
       "    device              end_ts  source_id            start_ts  \\\n",
       "0    touch 2017-12-20 17:38:00          4 2017-12-20 17:20:00   \n",
       "1  desktop 2018-02-19 17:21:00          2 2018-02-19 16:53:00   \n",
       "2    touch 2017-07-01 01:54:00          5 2017-07-01 01:54:00   \n",
       "3  desktop 2018-05-20 11:23:00          9 2018-05-20 10:59:00   \n",
       "4  desktop 2017-12-27 14:06:00          3 2017-12-27 14:06:00   \n",
       "\n",
       "                    uid  session_year  session_month  session_week  \\\n",
       "0  16879256277535980062          2017             12            51   \n",
       "1    104060357244891740          2018              2             8   \n",
       "2   7459035603376831527          2017              7            26   \n",
       "3  16174680259334210214          2018              5            20   \n",
       "4   9969694820036681168          2017             12            52   \n",
       "\n",
       "  session_date  \n",
       "0   2017-12-20  \n",
       "1   2018-02-19  \n",
       "2   2017-07-01  \n",
       "3   2018-05-20  \n",
       "4   2017-12-27  "
      ]
     },
     "execution_count": 24,
     "metadata": {},
     "output_type": "execute_result"
    }
   ],
   "source": [
    "visits.head()"
   ]
  },
  {
   "cell_type": "code",
   "execution_count": 25,
   "metadata": {},
   "outputs": [],
   "source": [
    "visits_touch=visits[visits['device']=='touch']\n",
    "visits_desktop=visits[visits['device']=='desktop']"
   ]
  },
  {
   "cell_type": "code",
   "execution_count": 26,
   "metadata": {},
   "outputs": [],
   "source": [
    "users_per_month=visits.groupby(['session_year','session_month']).agg({'uid':'nunique'}).mean()\n",
    "users_per_week=visits.groupby(['session_year','session_week']).agg({'uid':'nunique'}).mean()\n",
    "users_per_day=visits.groupby('session_date').agg({'uid':'nunique'}).mean()"
   ]
  },
  {
   "cell_type": "code",
   "execution_count": 27,
   "metadata": {},
   "outputs": [
    {
     "name": "stdout",
     "output_type": "stream",
     "text": [
      "Usuarios por dia: 907\n",
      "Usuarios por semana: 5716\n",
      "Usuarios por mes: 23228\n"
     ]
    }
   ],
   "source": [
    "print('Usuarios por dia:',int(users_per_day.iloc[0]))\n",
    "print('Usuarios por semana:',int( users_per_week.iloc[0]))\n",
    "print('Usuarios por mes:',int( users_per_month.iloc[0]))"
   ]
  },
  {
   "cell_type": "code",
   "execution_count": 28,
   "metadata": {},
   "outputs": [
    {
     "data": {
      "text/html": [
       "<div>\n",
       "<style scoped>\n",
       "    .dataframe tbody tr th:only-of-type {\n",
       "        vertical-align: middle;\n",
       "    }\n",
       "\n",
       "    .dataframe tbody tr th {\n",
       "        vertical-align: top;\n",
       "    }\n",
       "\n",
       "    .dataframe thead th {\n",
       "        text-align: right;\n",
       "    }\n",
       "</style>\n",
       "<table border=\"1\" class=\"dataframe\">\n",
       "  <thead>\n",
       "    <tr style=\"text-align: right;\">\n",
       "      <th></th>\n",
       "      <th>n_sessions</th>\n",
       "      <th>n_users</th>\n",
       "      <th>sessions_per_user</th>\n",
       "    </tr>\n",
       "    <tr>\n",
       "      <th>session_date</th>\n",
       "      <th></th>\n",
       "      <th></th>\n",
       "      <th></th>\n",
       "    </tr>\n",
       "  </thead>\n",
       "  <tbody>\n",
       "    <tr>\n",
       "      <th>2017-06-01</th>\n",
       "      <td>664</td>\n",
       "      <td>605</td>\n",
       "      <td>1.097521</td>\n",
       "    </tr>\n",
       "    <tr>\n",
       "      <th>2017-06-02</th>\n",
       "      <td>658</td>\n",
       "      <td>608</td>\n",
       "      <td>1.082237</td>\n",
       "    </tr>\n",
       "    <tr>\n",
       "      <th>2017-06-03</th>\n",
       "      <td>477</td>\n",
       "      <td>445</td>\n",
       "      <td>1.071910</td>\n",
       "    </tr>\n",
       "    <tr>\n",
       "      <th>2017-06-04</th>\n",
       "      <td>510</td>\n",
       "      <td>476</td>\n",
       "      <td>1.071429</td>\n",
       "    </tr>\n",
       "    <tr>\n",
       "      <th>2017-06-05</th>\n",
       "      <td>893</td>\n",
       "      <td>820</td>\n",
       "      <td>1.089024</td>\n",
       "    </tr>\n",
       "    <tr>\n",
       "      <th>...</th>\n",
       "      <td>...</td>\n",
       "      <td>...</td>\n",
       "      <td>...</td>\n",
       "    </tr>\n",
       "    <tr>\n",
       "      <th>2018-05-27</th>\n",
       "      <td>672</td>\n",
       "      <td>620</td>\n",
       "      <td>1.083871</td>\n",
       "    </tr>\n",
       "    <tr>\n",
       "      <th>2018-05-28</th>\n",
       "      <td>1156</td>\n",
       "      <td>1039</td>\n",
       "      <td>1.112608</td>\n",
       "    </tr>\n",
       "    <tr>\n",
       "      <th>2018-05-29</th>\n",
       "      <td>1035</td>\n",
       "      <td>948</td>\n",
       "      <td>1.091772</td>\n",
       "    </tr>\n",
       "    <tr>\n",
       "      <th>2018-05-30</th>\n",
       "      <td>1410</td>\n",
       "      <td>1289</td>\n",
       "      <td>1.093871</td>\n",
       "    </tr>\n",
       "    <tr>\n",
       "      <th>2018-05-31</th>\n",
       "      <td>2256</td>\n",
       "      <td>1997</td>\n",
       "      <td>1.129695</td>\n",
       "    </tr>\n",
       "  </tbody>\n",
       "</table>\n",
       "<p>364 rows × 3 columns</p>\n",
       "</div>"
      ],
      "text/plain": [
       "              n_sessions  n_users  sessions_per_user\n",
       "session_date                                        \n",
       "2017-06-01           664      605           1.097521\n",
       "2017-06-02           658      608           1.082237\n",
       "2017-06-03           477      445           1.071910\n",
       "2017-06-04           510      476           1.071429\n",
       "2017-06-05           893      820           1.089024\n",
       "...                  ...      ...                ...\n",
       "2018-05-27           672      620           1.083871\n",
       "2018-05-28          1156     1039           1.112608\n",
       "2018-05-29          1035      948           1.091772\n",
       "2018-05-30          1410     1289           1.093871\n",
       "2018-05-31          2256     1997           1.129695\n",
       "\n",
       "[364 rows x 3 columns]"
      ]
     },
     "execution_count": 28,
     "metadata": {},
     "output_type": "execute_result"
    }
   ],
   "source": [
    "sessions_per_user=visits.groupby(['session_date']).agg({'uid':['count','nunique']})\n",
    "sessions_per_user.columns = ['n_sessions', 'n_users']\n",
    "sessions_per_user['sessions_per_user'] = sessions_per_user['n_sessions'] / sessions_per_user['n_users']\n",
    "sessions_per_user"
   ]
  },
  {
   "cell_type": "code",
   "execution_count": 29,
   "metadata": {},
   "outputs": [
    {
     "data": {
      "text/plain": [
       "n_sessions           987.362637\n",
       "n_users              907.991758\n",
       "sessions_per_user      1.082170\n",
       "dtype: float64"
      ]
     },
     "execution_count": 29,
     "metadata": {},
     "output_type": "execute_result"
    }
   ],
   "source": [
    "avg_sessions_per_user = sessions_per_user.mean()\n",
    "avg_sessions_per_user"
   ]
  },
  {
   "cell_type": "code",
   "execution_count": 30,
   "metadata": {},
   "outputs": [
    {
     "name": "stdout",
     "output_type": "stream",
     "text": [
      "Duracion promedio por sesion 10.73 minutos\n"
     ]
    }
   ],
   "source": [
    "visits['duration']=(visits['end_ts']-visits['start_ts']).dt.seconds\n",
    "print('Duracion promedio por sesion',(visits['duration'].mean()/60).round(2),'minutos')"
   ]
  },
  {
   "cell_type": "code",
   "execution_count": 31,
   "metadata": {},
   "outputs": [
    {
     "data": {
      "image/png": "[encoded data removed]",
      "text/plain": [
       "<Figure size 432x288 with 1 Axes>"
      ]
     },
     "metadata": {
      "needs_background": "light"
     },
     "output_type": "display_data"
    },
    {
     "name": "stdout",
     "output_type": "stream",
     "text": [
      "Duración más frecuente: 60 segundos\n"
     ]
    }
   ],
   "source": [
    "visits['duration'].hist(bins=100, range=(0, 6000))\n",
    "plt.xlabel('Duración (segundos)')\n",
    "plt.ylabel('Frecuencia')\n",
    "plt.title('Histograma de duración de visitas')\n",
    "plt.show()\n",
    "most_frequent_duration = int(visits['duration'].mode().iloc[0])\n",
    "print('Duración más frecuente:', most_frequent_duration, 'segundos')"
   ]
  },
  {
   "cell_type": "code",
   "execution_count": 32,
   "metadata": {},
   "outputs": [
    {
     "name": "stdout",
     "output_type": "stream",
     "text": [
      "Porcentaje de usuarios que regresan al sitio web en una semana es: 15.87%\n",
      "Porcentaje de usuarios que regresan al sitio web en un mes es: 3.90%\n"
     ]
    }
   ],
   "source": [
    "print('Porcentaje de usuarios que regresan al sitio web en una semana es: {:.2%}'.format(int(users_per_day.iloc[0]) / int(users_per_week.iloc[0])))\n",
    "print('Porcentaje de usuarios que regresan al sitio web en un mes es: {:.2%}'.format(int(users_per_day.iloc[0]) / int(users_per_month.iloc[0])))"
   ]
  },
  {
   "cell_type": "markdown",
   "metadata": {},
   "source": [
    "Los usuarios regresan más semanalmente que mensualmente."
   ]
  },
  {
   "cell_type": "code",
   "execution_count": 33,
   "metadata": {},
   "outputs": [],
   "source": [
    "first_visit_datetime = visits.groupby('uid')['start_ts'].min()\n",
    "first_visit_datetime.name = 'first_visit_date'\n",
    "visits = visits.join(first_visit_datetime ,on='uid')"
   ]
  },
  {
   "cell_type": "markdown",
   "metadata": {},
   "source": [
    "Cohortes por mes de compra"
   ]
  },
  {
   "cell_type": "code",
   "execution_count": 34,
   "metadata": {},
   "outputs": [],
   "source": [
    "visits['first_visit_month'] = visits['first_visit_date'].astype('datetime64[M]')\n",
    "visits['visit_month'] = visits['start_ts'].astype('datetime64[M]')"
   ]
  },
  {
   "cell_type": "markdown",
   "metadata": {},
   "source": [
    "Creamos una tabla dinámica para encontrar cuántas personas continúan realizando compras en los meses siguientes al mes de la primera compra."
   ]
  },
  {
   "cell_type": "code",
   "execution_count": 35,
   "metadata": {},
   "outputs": [
    {
     "data": {
      "text/html": [
       "<div>\n",
       "<style scoped>\n",
       "    .dataframe tbody tr th:only-of-type {\n",
       "        vertical-align: middle;\n",
       "    }\n",
       "\n",
       "    .dataframe tbody tr th {\n",
       "        vertical-align: top;\n",
       "    }\n",
       "\n",
       "    .dataframe thead th {\n",
       "        text-align: right;\n",
       "    }\n",
       "</style>\n",
       "<table border=\"1\" class=\"dataframe\">\n",
       "  <thead>\n",
       "    <tr style=\"text-align: right;\">\n",
       "      <th>visit_month</th>\n",
       "      <th>2017-06-01</th>\n",
       "      <th>2017-07-01</th>\n",
       "      <th>2017-08-01</th>\n",
       "      <th>2017-09-01</th>\n",
       "      <th>2017-10-01</th>\n",
       "      <th>2017-11-01</th>\n",
       "      <th>2017-12-01</th>\n",
       "      <th>2018-01-01</th>\n",
       "      <th>2018-02-01</th>\n",
       "      <th>2018-03-01</th>\n",
       "      <th>2018-04-01</th>\n",
       "      <th>2018-05-01</th>\n",
       "    </tr>\n",
       "    <tr>\n",
       "      <th>first_visit_month</th>\n",
       "      <th></th>\n",
       "      <th></th>\n",
       "      <th></th>\n",
       "      <th></th>\n",
       "      <th></th>\n",
       "      <th></th>\n",
       "      <th></th>\n",
       "      <th></th>\n",
       "      <th></th>\n",
       "      <th></th>\n",
       "      <th></th>\n",
       "      <th></th>\n",
       "    </tr>\n",
       "  </thead>\n",
       "  <tbody>\n",
       "    <tr>\n",
       "      <th>2017-06-01</th>\n",
       "      <td>13259.0</td>\n",
       "      <td>1043.0</td>\n",
       "      <td>713.0</td>\n",
       "      <td>814.0</td>\n",
       "      <td>909.0</td>\n",
       "      <td>947.0</td>\n",
       "      <td>809.0</td>\n",
       "      <td>766.0</td>\n",
       "      <td>694.0</td>\n",
       "      <td>674.0</td>\n",
       "      <td>539.0</td>\n",
       "      <td>596.0</td>\n",
       "    </tr>\n",
       "    <tr>\n",
       "      <th>2017-07-01</th>\n",
       "      <td>NaN</td>\n",
       "      <td>13140.0</td>\n",
       "      <td>737.0</td>\n",
       "      <td>674.0</td>\n",
       "      <td>738.0</td>\n",
       "      <td>765.0</td>\n",
       "      <td>633.0</td>\n",
       "      <td>596.0</td>\n",
       "      <td>601.0</td>\n",
       "      <td>510.0</td>\n",
       "      <td>376.0</td>\n",
       "      <td>361.0</td>\n",
       "    </tr>\n",
       "    <tr>\n",
       "      <th>2017-08-01</th>\n",
       "      <td>NaN</td>\n",
       "      <td>NaN</td>\n",
       "      <td>10181.0</td>\n",
       "      <td>783.0</td>\n",
       "      <td>640.0</td>\n",
       "      <td>639.0</td>\n",
       "      <td>510.0</td>\n",
       "      <td>448.0</td>\n",
       "      <td>370.0</td>\n",
       "      <td>402.0</td>\n",
       "      <td>284.0</td>\n",
       "      <td>265.0</td>\n",
       "    </tr>\n",
       "    <tr>\n",
       "      <th>2017-09-01</th>\n",
       "      <td>NaN</td>\n",
       "      <td>NaN</td>\n",
       "      <td>NaN</td>\n",
       "      <td>16704.0</td>\n",
       "      <td>1428.0</td>\n",
       "      <td>1156.0</td>\n",
       "      <td>847.0</td>\n",
       "      <td>658.0</td>\n",
       "      <td>632.0</td>\n",
       "      <td>599.0</td>\n",
       "      <td>404.0</td>\n",
       "      <td>381.0</td>\n",
       "    </tr>\n",
       "    <tr>\n",
       "      <th>2017-10-01</th>\n",
       "      <td>NaN</td>\n",
       "      <td>NaN</td>\n",
       "      <td>NaN</td>\n",
       "      <td>NaN</td>\n",
       "      <td>25977.0</td>\n",
       "      <td>2042.0</td>\n",
       "      <td>1357.0</td>\n",
       "      <td>1012.0</td>\n",
       "      <td>890.0</td>\n",
       "      <td>837.0</td>\n",
       "      <td>555.0</td>\n",
       "      <td>529.0</td>\n",
       "    </tr>\n",
       "    <tr>\n",
       "      <th>2017-11-01</th>\n",
       "      <td>NaN</td>\n",
       "      <td>NaN</td>\n",
       "      <td>NaN</td>\n",
       "      <td>NaN</td>\n",
       "      <td>NaN</td>\n",
       "      <td>27248.0</td>\n",
       "      <td>2133.0</td>\n",
       "      <td>1202.0</td>\n",
       "      <td>1054.0</td>\n",
       "      <td>919.0</td>\n",
       "      <td>638.0</td>\n",
       "      <td>594.0</td>\n",
       "    </tr>\n",
       "    <tr>\n",
       "      <th>2017-12-01</th>\n",
       "      <td>NaN</td>\n",
       "      <td>NaN</td>\n",
       "      <td>NaN</td>\n",
       "      <td>NaN</td>\n",
       "      <td>NaN</td>\n",
       "      <td>NaN</td>\n",
       "      <td>25268.0</td>\n",
       "      <td>1410.0</td>\n",
       "      <td>960.0</td>\n",
       "      <td>786.0</td>\n",
       "      <td>512.0</td>\n",
       "      <td>481.0</td>\n",
       "    </tr>\n",
       "    <tr>\n",
       "      <th>2018-01-01</th>\n",
       "      <td>NaN</td>\n",
       "      <td>NaN</td>\n",
       "      <td>NaN</td>\n",
       "      <td>NaN</td>\n",
       "      <td>NaN</td>\n",
       "      <td>NaN</td>\n",
       "      <td>NaN</td>\n",
       "      <td>22624.0</td>\n",
       "      <td>1351.0</td>\n",
       "      <td>890.0</td>\n",
       "      <td>565.0</td>\n",
       "      <td>458.0</td>\n",
       "    </tr>\n",
       "    <tr>\n",
       "      <th>2018-02-01</th>\n",
       "      <td>NaN</td>\n",
       "      <td>NaN</td>\n",
       "      <td>NaN</td>\n",
       "      <td>NaN</td>\n",
       "      <td>NaN</td>\n",
       "      <td>NaN</td>\n",
       "      <td>NaN</td>\n",
       "      <td>NaN</td>\n",
       "      <td>22197.0</td>\n",
       "      <td>1267.0</td>\n",
       "      <td>565.0</td>\n",
       "      <td>446.0</td>\n",
       "    </tr>\n",
       "    <tr>\n",
       "      <th>2018-03-01</th>\n",
       "      <td>NaN</td>\n",
       "      <td>NaN</td>\n",
       "      <td>NaN</td>\n",
       "      <td>NaN</td>\n",
       "      <td>NaN</td>\n",
       "      <td>NaN</td>\n",
       "      <td>NaN</td>\n",
       "      <td>NaN</td>\n",
       "      <td>NaN</td>\n",
       "      <td>20589.0</td>\n",
       "      <td>861.0</td>\n",
       "      <td>557.0</td>\n",
       "    </tr>\n",
       "    <tr>\n",
       "      <th>2018-04-01</th>\n",
       "      <td>NaN</td>\n",
       "      <td>NaN</td>\n",
       "      <td>NaN</td>\n",
       "      <td>NaN</td>\n",
       "      <td>NaN</td>\n",
       "      <td>NaN</td>\n",
       "      <td>NaN</td>\n",
       "      <td>NaN</td>\n",
       "      <td>NaN</td>\n",
       "      <td>NaN</td>\n",
       "      <td>15709.0</td>\n",
       "      <td>760.0</td>\n",
       "    </tr>\n",
       "    <tr>\n",
       "      <th>2018-05-01</th>\n",
       "      <td>NaN</td>\n",
       "      <td>NaN</td>\n",
       "      <td>NaN</td>\n",
       "      <td>NaN</td>\n",
       "      <td>NaN</td>\n",
       "      <td>NaN</td>\n",
       "      <td>NaN</td>\n",
       "      <td>NaN</td>\n",
       "      <td>NaN</td>\n",
       "      <td>NaN</td>\n",
       "      <td>NaN</td>\n",
       "      <td>15273.0</td>\n",
       "    </tr>\n",
       "  </tbody>\n",
       "</table>\n",
       "</div>"
      ],
      "text/plain": [
       "visit_month        2017-06-01  2017-07-01  2017-08-01  2017-09-01  2017-10-01  \\\n",
       "first_visit_month                                                               \n",
       "2017-06-01            13259.0      1043.0       713.0       814.0       909.0   \n",
       "2017-07-01                NaN     13140.0       737.0       674.0       738.0   \n",
       "2017-08-01                NaN         NaN     10181.0       783.0       640.0   \n",
       "2017-09-01                NaN         NaN         NaN     16704.0      1428.0   \n",
       "2017-10-01                NaN         NaN         NaN         NaN     25977.0   \n",
       "2017-11-01                NaN         NaN         NaN         NaN         NaN   \n",
       "2017-12-01                NaN         NaN         NaN         NaN         NaN   \n",
       "2018-01-01                NaN         NaN         NaN         NaN         NaN   \n",
       "2018-02-01                NaN         NaN         NaN         NaN         NaN   \n",
       "2018-03-01                NaN         NaN         NaN         NaN         NaN   \n",
       "2018-04-01                NaN         NaN         NaN         NaN         NaN   \n",
       "2018-05-01                NaN         NaN         NaN         NaN         NaN   \n",
       "\n",
       "visit_month        2017-11-01  2017-12-01  2018-01-01  2018-02-01  2018-03-01  \\\n",
       "first_visit_month                                                               \n",
       "2017-06-01              947.0       809.0       766.0       694.0       674.0   \n",
       "2017-07-01              765.0       633.0       596.0       601.0       510.0   \n",
       "2017-08-01              639.0       510.0       448.0       370.0       402.0   \n",
       "2017-09-01             1156.0       847.0       658.0       632.0       599.0   \n",
       "2017-10-01             2042.0      1357.0      1012.0       890.0       837.0   \n",
       "2017-11-01            27248.0      2133.0      1202.0      1054.0       919.0   \n",
       "2017-12-01                NaN     25268.0      1410.0       960.0       786.0   \n",
       "2018-01-01                NaN         NaN     22624.0      1351.0       890.0   \n",
       "2018-02-01                NaN         NaN         NaN     22197.0      1267.0   \n",
       "2018-03-01                NaN         NaN         NaN         NaN     20589.0   \n",
       "2018-04-01                NaN         NaN         NaN         NaN         NaN   \n",
       "2018-05-01                NaN         NaN         NaN         NaN         NaN   \n",
       "\n",
       "visit_month        2018-04-01  2018-05-01  \n",
       "first_visit_month                          \n",
       "2017-06-01              539.0       596.0  \n",
       "2017-07-01              376.0       361.0  \n",
       "2017-08-01              284.0       265.0  \n",
       "2017-09-01              404.0       381.0  \n",
       "2017-10-01              555.0       529.0  \n",
       "2017-11-01              638.0       594.0  \n",
       "2017-12-01              512.0       481.0  \n",
       "2018-01-01              565.0       458.0  \n",
       "2018-02-01              565.0       446.0  \n",
       "2018-03-01              861.0       557.0  \n",
       "2018-04-01            15709.0       760.0  \n",
       "2018-05-01                NaN     15273.0  "
      ]
     },
     "execution_count": 35,
     "metadata": {},
     "output_type": "execute_result"
    }
   ],
   "source": [
    "absolute_values = visits.pivot_table(index='first_visit_month', columns='visit_month', values='uid', aggfunc='nunique')\n",
    "absolute_values"
   ]
  },
  {
   "cell_type": "markdown",
   "metadata": {},
   "source": [
    "Encontrando la vida útil de la cohorte"
   ]
  },
  {
   "cell_type": "code",
   "execution_count": 36,
   "metadata": {},
   "outputs": [],
   "source": [
    "visits['cohort_lifetime'] = visits['visit_month'] - visits['first_visit_month']\n",
    "visits['cohort_lifetime'] = visits['cohort_lifetime'] / np.timedelta64(1,'M')\n",
    "visits['cohort_lifetime'] = visits['cohort_lifetime'].round().astype('int')"
   ]
  },
  {
   "cell_type": "markdown",
   "metadata": {},
   "source": [
    "Agrupamos  los datos por cohorte y vida útil , encontramos la cantidad de usuarios activos en un determinado mes de vida para cada cohorte."
   ]
  },
  {
   "cell_type": "code",
   "execution_count": 37,
   "metadata": {},
   "outputs": [
    {
     "data": {
      "text/html": [
       "<div>\n",
       "<style scoped>\n",
       "    .dataframe tbody tr th:only-of-type {\n",
       "        vertical-align: middle;\n",
       "    }\n",
       "\n",
       "    .dataframe tbody tr th {\n",
       "        vertical-align: top;\n",
       "    }\n",
       "\n",
       "    .dataframe thead th {\n",
       "        text-align: right;\n",
       "    }\n",
       "</style>\n",
       "<table border=\"1\" class=\"dataframe\">\n",
       "  <thead>\n",
       "    <tr style=\"text-align: right;\">\n",
       "      <th></th>\n",
       "      <th>first_visit_month</th>\n",
       "      <th>cohort_lifetime</th>\n",
       "      <th>uid</th>\n",
       "      <th>cohort_users</th>\n",
       "    </tr>\n",
       "  </thead>\n",
       "  <tbody>\n",
       "    <tr>\n",
       "      <th>0</th>\n",
       "      <td>2017-06-01</td>\n",
       "      <td>0</td>\n",
       "      <td>13259</td>\n",
       "      <td>13259</td>\n",
       "    </tr>\n",
       "    <tr>\n",
       "      <th>1</th>\n",
       "      <td>2017-06-01</td>\n",
       "      <td>1</td>\n",
       "      <td>1043</td>\n",
       "      <td>13259</td>\n",
       "    </tr>\n",
       "    <tr>\n",
       "      <th>2</th>\n",
       "      <td>2017-06-01</td>\n",
       "      <td>2</td>\n",
       "      <td>713</td>\n",
       "      <td>13259</td>\n",
       "    </tr>\n",
       "    <tr>\n",
       "      <th>3</th>\n",
       "      <td>2017-06-01</td>\n",
       "      <td>3</td>\n",
       "      <td>814</td>\n",
       "      <td>13259</td>\n",
       "    </tr>\n",
       "    <tr>\n",
       "      <th>4</th>\n",
       "      <td>2017-06-01</td>\n",
       "      <td>4</td>\n",
       "      <td>909</td>\n",
       "      <td>13259</td>\n",
       "    </tr>\n",
       "    <tr>\n",
       "      <th>...</th>\n",
       "      <td>...</td>\n",
       "      <td>...</td>\n",
       "      <td>...</td>\n",
       "      <td>...</td>\n",
       "    </tr>\n",
       "    <tr>\n",
       "      <th>73</th>\n",
       "      <td>2018-03-01</td>\n",
       "      <td>1</td>\n",
       "      <td>861</td>\n",
       "      <td>20589</td>\n",
       "    </tr>\n",
       "    <tr>\n",
       "      <th>74</th>\n",
       "      <td>2018-03-01</td>\n",
       "      <td>2</td>\n",
       "      <td>557</td>\n",
       "      <td>20589</td>\n",
       "    </tr>\n",
       "    <tr>\n",
       "      <th>75</th>\n",
       "      <td>2018-04-01</td>\n",
       "      <td>0</td>\n",
       "      <td>15709</td>\n",
       "      <td>15709</td>\n",
       "    </tr>\n",
       "    <tr>\n",
       "      <th>76</th>\n",
       "      <td>2018-04-01</td>\n",
       "      <td>1</td>\n",
       "      <td>760</td>\n",
       "      <td>15709</td>\n",
       "    </tr>\n",
       "    <tr>\n",
       "      <th>77</th>\n",
       "      <td>2018-05-01</td>\n",
       "      <td>0</td>\n",
       "      <td>15273</td>\n",
       "      <td>15273</td>\n",
       "    </tr>\n",
       "  </tbody>\n",
       "</table>\n",
       "<p>78 rows × 4 columns</p>\n",
       "</div>"
      ],
      "text/plain": [
       "   first_visit_month  cohort_lifetime    uid  cohort_users\n",
       "0         2017-06-01                0  13259         13259\n",
       "1         2017-06-01                1   1043         13259\n",
       "2         2017-06-01                2    713         13259\n",
       "3         2017-06-01                3    814         13259\n",
       "4         2017-06-01                4    909         13259\n",
       "..               ...              ...    ...           ...\n",
       "73        2018-03-01                1    861         20589\n",
       "74        2018-03-01                2    557         20589\n",
       "75        2018-04-01                0  15709         15709\n",
       "76        2018-04-01                1    760         15709\n",
       "77        2018-05-01                0  15273         15273\n",
       "\n",
       "[78 rows x 4 columns]"
      ]
     },
     "execution_count": 37,
     "metadata": {},
     "output_type": "execute_result"
    }
   ],
   "source": [
    "cohorts = visits.groupby(['first_visit_month','cohort_lifetime']).agg({'uid':'nunique'}).reset_index()\n",
    "initial_users_count = cohorts[cohorts['cohort_lifetime'] == 0][['first_visit_month','uid']]\n",
    "initial_users_count = initial_users_count.rename(columns={'uid':'cohort_users'})\n",
    "cohorts = cohorts.merge(initial_users_count,on='first_visit_month')\n",
    "cohorts"
   ]
  },
  {
   "cell_type": "markdown",
   "metadata": {},
   "source": [
    "Calculamos la tasa de retención. Dividimos la cantidad de usuarios activos en cada semana por la cantidad inicial de usuarios en la cohorte"
   ]
  },
  {
   "cell_type": "code",
   "execution_count": 38,
   "metadata": {},
   "outputs": [],
   "source": [
    "cohorts['retention'] = cohorts['uid']/cohorts['cohort_users']\n",
    "retention_pivot = cohorts.pivot_table(index='first_visit_month',columns='cohort_lifetime',values='retention',aggfunc='sum').round(2)\n"
   ]
  },
  {
   "cell_type": "code",
   "execution_count": 39,
   "metadata": {},
   "outputs": [
    {
     "data": {
      "image/png": "[encoded data removed]",
      "text/plain": [
       "<Figure size 936x648 with 2 Axes>"
      ]
     },
     "metadata": {
      "needs_background": "light"
     },
     "output_type": "display_data"
    }
   ],
   "source": [
    "plt.figure(figsize=(13, 9))\n",
    "plt.title('Tasa de retención de cohortes')\n",
    "plt.imshow(retention_pivot, cmap='YlGnBu', interpolation='nearest')\n",
    "\n",
    "for i in range(len(retention_pivot.index)):\n",
    "    for j in range(len(retention_pivot.columns)):\n",
    "        plt.text(j, i, '{:.1%}'.format(retention_pivot.iloc[i, j]),\n",
    "                 ha='center', va='center', color='black')\n",
    "\n",
    "plt.colorbar(label='Tasa de retención')\n",
    "plt.xticks(ticks=range(len(retention_pivot.columns)), labels=retention_pivot.columns)\n",
    "plt.yticks(ticks=range(len(retention_pivot.index)), labels=retention_pivot.index.strftime('%Y-%m'))\n",
    "plt.xlabel('Período de retención')\n",
    "plt.ylabel('Cohorte')\n",
    "plt.show()\n"
   ]
  },
  {
   "cell_type": "markdown",
   "metadata": {},
   "source": [
    "## Ventas"
   ]
  },
  {
   "cell_type": "markdown",
   "metadata": {},
   "source": [
    "¿Cuándo la gente empieza a comprar? (En el análisis de KPI, generalmente nos interesa saber el tiempo que transcurre entre el registro y la conversión, es decir, cuando el/la usuario/a se convierte en cliente. Por ejemplo, si el registro y la primera compra ocurren el mismo día, el/la usuario/a podría caer en la categoría Conversion 0d. Si la primera compra ocurre al día siguiente, será Conversion 1d.  Puedes usar cualquier enfoque que te permita comparar las conversiones de diferentes cohortes para que puedas determinar qué cohorte o canal de marketing es más efectivo).\n"
   ]
  },
  {
   "cell_type": "code",
   "execution_count": 40,
   "metadata": {},
   "outputs": [
    {
     "data": {
      "text/html": [
       "<div>\n",
       "<style scoped>\n",
       "    .dataframe tbody tr th:only-of-type {\n",
       "        vertical-align: middle;\n",
       "    }\n",
       "\n",
       "    .dataframe tbody tr th {\n",
       "        vertical-align: top;\n",
       "    }\n",
       "\n",
       "    .dataframe thead th {\n",
       "        text-align: right;\n",
       "    }\n",
       "</style>\n",
       "<table border=\"1\" class=\"dataframe\">\n",
       "  <thead>\n",
       "    <tr style=\"text-align: right;\">\n",
       "      <th></th>\n",
       "      <th>buy_ts</th>\n",
       "      <th>revenue</th>\n",
       "      <th>uid</th>\n",
       "    </tr>\n",
       "  </thead>\n",
       "  <tbody>\n",
       "    <tr>\n",
       "      <th>0</th>\n",
       "      <td>2017-06-01 00:10:00</td>\n",
       "      <td>17.00</td>\n",
       "      <td>10329302124590727494</td>\n",
       "    </tr>\n",
       "    <tr>\n",
       "      <th>1</th>\n",
       "      <td>2017-06-01 00:25:00</td>\n",
       "      <td>0.55</td>\n",
       "      <td>11627257723692907447</td>\n",
       "    </tr>\n",
       "    <tr>\n",
       "      <th>2</th>\n",
       "      <td>2017-06-01 00:27:00</td>\n",
       "      <td>0.37</td>\n",
       "      <td>17903680561304213844</td>\n",
       "    </tr>\n",
       "    <tr>\n",
       "      <th>3</th>\n",
       "      <td>2017-06-01 00:29:00</td>\n",
       "      <td>0.55</td>\n",
       "      <td>16109239769442553005</td>\n",
       "    </tr>\n",
       "    <tr>\n",
       "      <th>4</th>\n",
       "      <td>2017-06-01 07:58:00</td>\n",
       "      <td>0.37</td>\n",
       "      <td>14200605875248379450</td>\n",
       "    </tr>\n",
       "  </tbody>\n",
       "</table>\n",
       "</div>"
      ],
      "text/plain": [
       "               buy_ts  revenue                   uid\n",
       "0 2017-06-01 00:10:00    17.00  10329302124590727494\n",
       "1 2017-06-01 00:25:00     0.55  11627257723692907447\n",
       "2 2017-06-01 00:27:00     0.37  17903680561304213844\n",
       "3 2017-06-01 00:29:00     0.55  16109239769442553005\n",
       "4 2017-06-01 07:58:00     0.37  14200605875248379450"
      ]
     },
     "execution_count": 40,
     "metadata": {},
     "output_type": "execute_result"
    }
   ],
   "source": [
    "orders.head()"
   ]
  },
  {
   "cell_type": "markdown",
   "metadata": {},
   "source": [
    "#### ¿Cuántos pedidos hacen durante un período de tiempo dado?"
   ]
  },
  {
   "cell_type": "code",
   "execution_count": 41,
   "metadata": {},
   "outputs": [
    {
     "name": "stdout",
     "output_type": "stream",
     "text": [
      "El total de usuarios que visitan la página web es 228169\n",
      "El total de usuarios que han realizado una compra es 36523\n",
      "La tasa de conversión es 16.01%\n",
      "el promedio es, 17 días transcurridos desde la primera sesión del usuario hasta su primer pedido\n"
     ]
    }
   ],
   "source": [
    "first_order_dates = orders.groupby('uid').agg({'buy_ts':'min'}).reset_index()\n",
    "first_order_dates.columns= ['uid','first_order_date']\n",
    "\n",
    "first_session_dates = visits.groupby('uid').agg({'start_ts':'min'}).reset_index()\n",
    "first_session_dates.columns= ['uid','first_session_date']\n",
    " \n",
    "conversion = pd.merge(first_session_dates, first_order_dates, on='uid')\n",
    " \n",
    "conversion['conversion_time_days'] = (conversion['first_order_date'] - conversion['first_session_date']).dt.days\n",
    " \n",
    "avg_conversion_time = conversion['conversion_time_days'].mean()\n",
    "\n",
    "total_visitor = (visits['uid']).nunique()\n",
    "total_purchaser = (conversion['uid']).nunique()\n",
    "converted = total_purchaser / total_visitor\n",
    "\n",
    "print('El total de usuarios que visitan la página web es', total_visitor)\n",
    "print('El total de usuarios que han realizado una compra es', total_purchaser)\n",
    "print('La tasa de conversión es {:.2%}'.format(converted))\n",
    "print(\"el promedio es, {:.0f} días transcurridos desde la primera sesión del usuario hasta su primer pedido\".format(avg_conversion_time))"
   ]
  },
  {
   "cell_type": "code",
   "execution_count": 42,
   "metadata": {},
   "outputs": [],
   "source": [
    "conversion['first_session_month'] = conversion['first_session_date'].astype('datetime64[M]')"
   ]
  },
  {
   "cell_type": "code",
   "execution_count": 43,
   "metadata": {},
   "outputs": [
    {
     "data": {
      "text/html": [
       "<div>\n",
       "<style scoped>\n",
       "    .dataframe tbody tr th:only-of-type {\n",
       "        vertical-align: middle;\n",
       "    }\n",
       "\n",
       "    .dataframe tbody tr th {\n",
       "        vertical-align: top;\n",
       "    }\n",
       "\n",
       "    .dataframe thead th {\n",
       "        text-align: right;\n",
       "    }\n",
       "</style>\n",
       "<table border=\"1\" class=\"dataframe\">\n",
       "  <thead>\n",
       "    <tr style=\"text-align: right;\">\n",
       "      <th></th>\n",
       "      <th>uid</th>\n",
       "      <th>first_session_date</th>\n",
       "      <th>first_order_date</th>\n",
       "      <th>conversion_time_days</th>\n",
       "      <th>first_session_month</th>\n",
       "    </tr>\n",
       "  </thead>\n",
       "  <tbody>\n",
       "    <tr>\n",
       "      <th>0</th>\n",
       "      <td>313578113262317</td>\n",
       "      <td>2017-09-18 22:49:00</td>\n",
       "      <td>2018-01-03 21:51:00</td>\n",
       "      <td>106</td>\n",
       "      <td>2017-09-01</td>\n",
       "    </tr>\n",
       "    <tr>\n",
       "      <th>1</th>\n",
       "      <td>1575281904278712</td>\n",
       "      <td>2017-06-03 10:13:00</td>\n",
       "      <td>2017-06-03 10:13:00</td>\n",
       "      <td>0</td>\n",
       "      <td>2017-06-01</td>\n",
       "    </tr>\n",
       "    <tr>\n",
       "      <th>2</th>\n",
       "      <td>2429014661409475</td>\n",
       "      <td>2017-10-11 17:14:00</td>\n",
       "      <td>2017-10-11 18:33:00</td>\n",
       "      <td>0</td>\n",
       "      <td>2017-10-01</td>\n",
       "    </tr>\n",
       "    <tr>\n",
       "      <th>3</th>\n",
       "      <td>2464366381792757</td>\n",
       "      <td>2018-01-27 20:10:00</td>\n",
       "      <td>2018-01-28 15:54:00</td>\n",
       "      <td>0</td>\n",
       "      <td>2018-01-01</td>\n",
       "    </tr>\n",
       "    <tr>\n",
       "      <th>4</th>\n",
       "      <td>2551852515556206</td>\n",
       "      <td>2017-11-24 10:14:00</td>\n",
       "      <td>2017-11-24 10:14:00</td>\n",
       "      <td>0</td>\n",
       "      <td>2017-11-01</td>\n",
       "    </tr>\n",
       "  </tbody>\n",
       "</table>\n",
       "</div>"
      ],
      "text/plain": [
       "                uid  first_session_date    first_order_date  \\\n",
       "0   313578113262317 2017-09-18 22:49:00 2018-01-03 21:51:00   \n",
       "1  1575281904278712 2017-06-03 10:13:00 2017-06-03 10:13:00   \n",
       "2  2429014661409475 2017-10-11 17:14:00 2017-10-11 18:33:00   \n",
       "3  2464366381792757 2018-01-27 20:10:00 2018-01-28 15:54:00   \n",
       "4  2551852515556206 2017-11-24 10:14:00 2017-11-24 10:14:00   \n",
       "\n",
       "   conversion_time_days first_session_month  \n",
       "0                   106          2017-09-01  \n",
       "1                     0          2017-06-01  \n",
       "2                     0          2017-10-01  \n",
       "3                     0          2018-01-01  \n",
       "4                     0          2017-11-01  "
      ]
     },
     "execution_count": 43,
     "metadata": {},
     "output_type": "execute_result"
    }
   ],
   "source": [
    "conversion.head()"
   ]
  },
  {
   "cell_type": "code",
   "execution_count": 44,
   "metadata": {},
   "outputs": [],
   "source": [
    "bins = [-1, 0, 7, 14, 30, 364]\n",
    "labels = ['0d', '7d', '14d', '30d', '31+d']\n",
    "\n",
    "conversion['conversion_time'] = pd.cut(conversion['conversion_time_days'], bins=bins, labels=labels)"
   ]
  },
  {
   "cell_type": "code",
   "execution_count": 45,
   "metadata": {},
   "outputs": [],
   "source": [
    "conversion_cohorts = conversion.groupby(['first_session_month','conversion_time']).agg({'uid':'nunique'}).reset_index()"
   ]
  },
  {
   "cell_type": "code",
   "execution_count": 46,
   "metadata": {},
   "outputs": [],
   "source": [
    "total_conversion = conversion_cohorts.pivot_table(\n",
    "    index='first_session_month',\n",
    "    columns='conversion_time',\n",
    "    values='uid',\n",
    "    aggfunc='sum'\n",
    ")\n",
    "total_conversion = total_conversion.reindex(['0d','7d', '14d','30d','31+d'], axis=1)"
   ]
  },
  {
   "cell_type": "code",
   "execution_count": 47,
   "metadata": {},
   "outputs": [
    {
     "data": {
      "image/png": "[encoded data removed]",
      "text/plain": [
       "<Figure size 936x648 with 2 Axes>"
      ]
     },
     "metadata": {},
     "output_type": "display_data"
    }
   ],
   "source": [
    "sns.set(style='white')\n",
    "plt.figure(figsize=(13, 9))\n",
    "plt.title('Conversión total')\n",
    "sns.heatmap(\n",
    "    total_conversion,\n",
    "    annot=True, \n",
    "    fmt='.0f', \n",
    "    linewidths=1, \n",
    "    linecolor='gray', \n",
    "    cmap=\"GnBu\"\n",
    ").set_yticklabels(total_conversion.index.strftime('%Y-%m'))\n",
    "norm = plt.Normalize(-100,100)\n",
    "\n",
    "plt.show();"
   ]
  },
  {
   "cell_type": "code",
   "execution_count": 48,
   "metadata": {},
   "outputs": [
    {
     "name": "stdout",
     "output_type": "stream",
     "text": [
      "Porcentaje de usuarios que realizan una compra el mismo día de su primera visita: 11.55%\n",
      "Porcentaje de usuarios que realizan una compra dentro de los 7 días posteriores a su primera visita: 1.35%\n",
      "Porcentaje de usuarios que realizan una compra dentro de los 14 días posteriores a su primera visita: 0.41%\n",
      "Porcentaje de usuarios que realizan una compra dentro de los 30 días posteriores a su primera visita: 0.55%\n",
      "Porcentaje de usuarios que realizan una compra más de 30 días después de su primera visita: 2.15%\n"
     ]
    }
   ],
   "source": [
    "zero = conversion.query('conversion_time == \"0d\"').count()['uid']/(visits['uid']).nunique()\n",
    "seven = conversion.query('conversion_time == \"7d\"').count()['uid']/(visits['uid']).nunique()\n",
    "fourteen = conversion.query('conversion_time == \"14d\"').count()['uid']/(visits['uid']).nunique()\n",
    "thirty = conversion.query('conversion_time == \"30d\"').count()['uid']/(visits['uid']).nunique()\n",
    "long = conversion.query('conversion_time == \"31+d\"').count()['uid']/(visits['uid']).nunique()\n",
    "\n",
    "print('Porcentaje de usuarios que realizan una compra el mismo día de su primera visita: {:.2%}'.format(zero))\n",
    "print('Porcentaje de usuarios que realizan una compra dentro de los 7 días posteriores a su primera visita: {:.2%}'.format(seven))\n",
    "print('Porcentaje de usuarios que realizan una compra dentro de los 14 días posteriores a su primera visita: {:.2%}'.format(fourteen))\n",
    "print('Porcentaje de usuarios que realizan una compra dentro de los 30 días posteriores a su primera visita: {:.2%}'.format(thirty))\n",
    "print('Porcentaje de usuarios que realizan una compra más de 30 días después de su primera visita: {:.2%}'.format(long))"
   ]
  },
  {
   "cell_type": "markdown",
   "metadata": {},
   "source": [
    "#### ¿Cuál es el tamaño promedio de compra?"
   ]
  },
  {
   "cell_type": "code",
   "execution_count": 49,
   "metadata": {},
   "outputs": [],
   "source": [
    "orders['buy_ts'] = pd.to_datetime(orders['buy_ts'])\n",
    "first_order_day = orders.groupby('uid')['buy_ts'].min()\n",
    "first_order_day.name = 'first_order_day'\n",
    "orders = orders.join(first_order_day, on='uid')"
   ]
  },
  {
   "cell_type": "code",
   "execution_count": 50,
   "metadata": {},
   "outputs": [],
   "source": [
    "orders['first_order_month'] = orders['first_order_day'].astype('datetime64[M]')\n",
    "orders['order_month'] = orders['buy_ts'].astype('datetime64[M]')\n"
   ]
  },
  {
   "cell_type": "code",
   "execution_count": 51,
   "metadata": {},
   "outputs": [],
   "source": [
    "orders_grouped_by_cohorts = orders.groupby(['first_order_month','order_month']).agg({'revenue':'sum', 'uid':'nunique'}).reset_index()"
   ]
  },
  {
   "cell_type": "code",
   "execution_count": 52,
   "metadata": {},
   "outputs": [],
   "source": [
    "orders_grouped_by_cohorts.columns = ['first_order_month','order_month','revenue', 'n_users']"
   ]
  },
  {
   "cell_type": "code",
   "execution_count": 53,
   "metadata": {},
   "outputs": [
    {
     "data": {
      "text/html": [
       "<div>\n",
       "<style scoped>\n",
       "    .dataframe tbody tr th:only-of-type {\n",
       "        vertical-align: middle;\n",
       "    }\n",
       "\n",
       "    .dataframe tbody tr th {\n",
       "        vertical-align: top;\n",
       "    }\n",
       "\n",
       "    .dataframe thead th {\n",
       "        text-align: right;\n",
       "    }\n",
       "</style>\n",
       "<table border=\"1\" class=\"dataframe\">\n",
       "  <thead>\n",
       "    <tr style=\"text-align: right;\">\n",
       "      <th></th>\n",
       "      <th>first_order_month</th>\n",
       "      <th>order_month</th>\n",
       "      <th>revenue</th>\n",
       "      <th>n_users</th>\n",
       "    </tr>\n",
       "  </thead>\n",
       "  <tbody>\n",
       "    <tr>\n",
       "      <th>0</th>\n",
       "      <td>2017-06-01</td>\n",
       "      <td>2017-06-01</td>\n",
       "      <td>9557.49</td>\n",
       "      <td>2023</td>\n",
       "    </tr>\n",
       "    <tr>\n",
       "      <th>1</th>\n",
       "      <td>2017-06-01</td>\n",
       "      <td>2017-07-01</td>\n",
       "      <td>981.82</td>\n",
       "      <td>61</td>\n",
       "    </tr>\n",
       "    <tr>\n",
       "      <th>2</th>\n",
       "      <td>2017-06-01</td>\n",
       "      <td>2017-08-01</td>\n",
       "      <td>885.34</td>\n",
       "      <td>50</td>\n",
       "    </tr>\n",
       "    <tr>\n",
       "      <th>3</th>\n",
       "      <td>2017-06-01</td>\n",
       "      <td>2017-09-01</td>\n",
       "      <td>1931.30</td>\n",
       "      <td>54</td>\n",
       "    </tr>\n",
       "    <tr>\n",
       "      <th>4</th>\n",
       "      <td>2017-06-01</td>\n",
       "      <td>2017-10-01</td>\n",
       "      <td>2068.58</td>\n",
       "      <td>88</td>\n",
       "    </tr>\n",
       "  </tbody>\n",
       "</table>\n",
       "</div>"
      ],
      "text/plain": [
       "  first_order_month order_month  revenue  n_users\n",
       "0        2017-06-01  2017-06-01  9557.49     2023\n",
       "1        2017-06-01  2017-07-01   981.82       61\n",
       "2        2017-06-01  2017-08-01   885.34       50\n",
       "3        2017-06-01  2017-09-01  1931.30       54\n",
       "4        2017-06-01  2017-10-01  2068.58       88"
      ]
     },
     "execution_count": 53,
     "metadata": {},
     "output_type": "execute_result"
    }
   ],
   "source": [
    "orders_grouped_by_cohorts.head()"
   ]
  },
  {
   "cell_type": "code",
   "execution_count": 54,
   "metadata": {},
   "outputs": [],
   "source": [
    "orders_grouped_by_cohorts['revenue_per_user'] = orders_grouped_by_cohorts['revenue'] / orders_grouped_by_cohorts['n_users']\n",
    "orders_grouped_by_cohorts['revenue_per_user'] = orders_grouped_by_cohorts['revenue_per_user'].round()"
   ]
  },
  {
   "cell_type": "code",
   "execution_count": 55,
   "metadata": {},
   "outputs": [
    {
     "data": {
      "text/html": [
       "<div>\n",
       "<style scoped>\n",
       "    .dataframe tbody tr th:only-of-type {\n",
       "        vertical-align: middle;\n",
       "    }\n",
       "\n",
       "    .dataframe tbody tr th {\n",
       "        vertical-align: top;\n",
       "    }\n",
       "\n",
       "    .dataframe thead th {\n",
       "        text-align: right;\n",
       "    }\n",
       "</style>\n",
       "<table border=\"1\" class=\"dataframe\">\n",
       "  <thead>\n",
       "    <tr style=\"text-align: right;\">\n",
       "      <th></th>\n",
       "      <th>first_order_month</th>\n",
       "      <th>order_month</th>\n",
       "      <th>revenue</th>\n",
       "      <th>n_users</th>\n",
       "      <th>revenue_per_user</th>\n",
       "    </tr>\n",
       "  </thead>\n",
       "  <tbody>\n",
       "    <tr>\n",
       "      <th>0</th>\n",
       "      <td>2017-06-01</td>\n",
       "      <td>2017-06-01</td>\n",
       "      <td>9557.49</td>\n",
       "      <td>2023</td>\n",
       "      <td>5.0</td>\n",
       "    </tr>\n",
       "    <tr>\n",
       "      <th>1</th>\n",
       "      <td>2017-06-01</td>\n",
       "      <td>2017-07-01</td>\n",
       "      <td>981.82</td>\n",
       "      <td>61</td>\n",
       "      <td>16.0</td>\n",
       "    </tr>\n",
       "    <tr>\n",
       "      <th>2</th>\n",
       "      <td>2017-06-01</td>\n",
       "      <td>2017-08-01</td>\n",
       "      <td>885.34</td>\n",
       "      <td>50</td>\n",
       "      <td>18.0</td>\n",
       "    </tr>\n",
       "    <tr>\n",
       "      <th>3</th>\n",
       "      <td>2017-06-01</td>\n",
       "      <td>2017-09-01</td>\n",
       "      <td>1931.30</td>\n",
       "      <td>54</td>\n",
       "      <td>36.0</td>\n",
       "    </tr>\n",
       "    <tr>\n",
       "      <th>4</th>\n",
       "      <td>2017-06-01</td>\n",
       "      <td>2017-10-01</td>\n",
       "      <td>2068.58</td>\n",
       "      <td>88</td>\n",
       "      <td>24.0</td>\n",
       "    </tr>\n",
       "  </tbody>\n",
       "</table>\n",
       "</div>"
      ],
      "text/plain": [
       "  first_order_month order_month  revenue  n_users  revenue_per_user\n",
       "0        2017-06-01  2017-06-01  9557.49     2023               5.0\n",
       "1        2017-06-01  2017-07-01   981.82       61              16.0\n",
       "2        2017-06-01  2017-08-01   885.34       50              18.0\n",
       "3        2017-06-01  2017-09-01  1931.30       54              36.0\n",
       "4        2017-06-01  2017-10-01  2068.58       88              24.0"
      ]
     },
     "execution_count": 55,
     "metadata": {},
     "output_type": "execute_result"
    }
   ],
   "source": [
    "orders_grouped_by_cohorts.head()"
   ]
  },
  {
   "cell_type": "code",
   "execution_count": 56,
   "metadata": {},
   "outputs": [
    {
     "name": "stdout",
     "output_type": "stream",
     "text": [
      "Compra media por usuario 14.746835443037975\n"
     ]
    }
   ],
   "source": [
    "print('Compra media por usuario',orders_grouped_by_cohorts['revenue_per_user'].mean())"
   ]
  },
  {
   "cell_type": "code",
   "execution_count": 57,
   "metadata": {},
   "outputs": [
    {
     "data": {
      "text/html": [
       "<div>\n",
       "<style scoped>\n",
       "    .dataframe tbody tr th:only-of-type {\n",
       "        vertical-align: middle;\n",
       "    }\n",
       "\n",
       "    .dataframe tbody tr th {\n",
       "        vertical-align: top;\n",
       "    }\n",
       "\n",
       "    .dataframe thead th {\n",
       "        text-align: right;\n",
       "    }\n",
       "</style>\n",
       "<table border=\"1\" class=\"dataframe\">\n",
       "  <thead>\n",
       "    <tr style=\"text-align: right;\">\n",
       "      <th>order_month</th>\n",
       "      <th>2017-06-01</th>\n",
       "      <th>2017-07-01</th>\n",
       "      <th>2017-08-01</th>\n",
       "      <th>2017-09-01</th>\n",
       "      <th>2017-10-01</th>\n",
       "      <th>2017-11-01</th>\n",
       "      <th>2017-12-01</th>\n",
       "      <th>2018-01-01</th>\n",
       "      <th>2018-02-01</th>\n",
       "      <th>2018-03-01</th>\n",
       "      <th>2018-04-01</th>\n",
       "      <th>2018-05-01</th>\n",
       "      <th>2018-06-01</th>\n",
       "    </tr>\n",
       "    <tr>\n",
       "      <th>first_order_month</th>\n",
       "      <th></th>\n",
       "      <th></th>\n",
       "      <th></th>\n",
       "      <th></th>\n",
       "      <th></th>\n",
       "      <th></th>\n",
       "      <th></th>\n",
       "      <th></th>\n",
       "      <th></th>\n",
       "      <th></th>\n",
       "      <th></th>\n",
       "      <th></th>\n",
       "      <th></th>\n",
       "    </tr>\n",
       "  </thead>\n",
       "  <tbody>\n",
       "    <tr>\n",
       "      <th>2017-06-01</th>\n",
       "      <td>5.0</td>\n",
       "      <td>16.0</td>\n",
       "      <td>18.0</td>\n",
       "      <td>36.0</td>\n",
       "      <td>24.0</td>\n",
       "      <td>22.0</td>\n",
       "      <td>31.0</td>\n",
       "      <td>25.0</td>\n",
       "      <td>19.0</td>\n",
       "      <td>27.0</td>\n",
       "      <td>26.0</td>\n",
       "      <td>10.0</td>\n",
       "      <td>NaN</td>\n",
       "    </tr>\n",
       "    <tr>\n",
       "      <th>2017-07-01</th>\n",
       "      <td>NaN</td>\n",
       "      <td>6.0</td>\n",
       "      <td>12.0</td>\n",
       "      <td>21.0</td>\n",
       "      <td>11.0</td>\n",
       "      <td>7.0</td>\n",
       "      <td>8.0</td>\n",
       "      <td>6.0</td>\n",
       "      <td>7.0</td>\n",
       "      <td>7.0</td>\n",
       "      <td>13.0</td>\n",
       "      <td>12.0</td>\n",
       "      <td>NaN</td>\n",
       "    </tr>\n",
       "    <tr>\n",
       "      <th>2017-08-01</th>\n",
       "      <td>NaN</td>\n",
       "      <td>NaN</td>\n",
       "      <td>5.0</td>\n",
       "      <td>11.0</td>\n",
       "      <td>12.0</td>\n",
       "      <td>12.0</td>\n",
       "      <td>17.0</td>\n",
       "      <td>12.0</td>\n",
       "      <td>10.0</td>\n",
       "      <td>13.0</td>\n",
       "      <td>21.0</td>\n",
       "      <td>8.0</td>\n",
       "      <td>NaN</td>\n",
       "    </tr>\n",
       "    <tr>\n",
       "      <th>2017-09-01</th>\n",
       "      <td>NaN</td>\n",
       "      <td>NaN</td>\n",
       "      <td>NaN</td>\n",
       "      <td>6.0</td>\n",
       "      <td>22.0</td>\n",
       "      <td>13.0</td>\n",
       "      <td>139.0</td>\n",
       "      <td>20.0</td>\n",
       "      <td>26.0</td>\n",
       "      <td>27.0</td>\n",
       "      <td>17.0</td>\n",
       "      <td>11.0</td>\n",
       "      <td>NaN</td>\n",
       "    </tr>\n",
       "    <tr>\n",
       "      <th>2017-10-01</th>\n",
       "      <td>NaN</td>\n",
       "      <td>NaN</td>\n",
       "      <td>NaN</td>\n",
       "      <td>NaN</td>\n",
       "      <td>5.0</td>\n",
       "      <td>11.0</td>\n",
       "      <td>7.0</td>\n",
       "      <td>7.0</td>\n",
       "      <td>7.0</td>\n",
       "      <td>7.0</td>\n",
       "      <td>7.0</td>\n",
       "      <td>7.0</td>\n",
       "      <td>NaN</td>\n",
       "    </tr>\n",
       "    <tr>\n",
       "      <th>2017-11-01</th>\n",
       "      <td>NaN</td>\n",
       "      <td>NaN</td>\n",
       "      <td>NaN</td>\n",
       "      <td>NaN</td>\n",
       "      <td>NaN</td>\n",
       "      <td>5.0</td>\n",
       "      <td>7.0</td>\n",
       "      <td>7.0</td>\n",
       "      <td>13.0</td>\n",
       "      <td>7.0</td>\n",
       "      <td>5.0</td>\n",
       "      <td>8.0</td>\n",
       "      <td>NaN</td>\n",
       "    </tr>\n",
       "    <tr>\n",
       "      <th>2017-12-01</th>\n",
       "      <td>NaN</td>\n",
       "      <td>NaN</td>\n",
       "      <td>NaN</td>\n",
       "      <td>NaN</td>\n",
       "      <td>NaN</td>\n",
       "      <td>NaN</td>\n",
       "      <td>5.0</td>\n",
       "      <td>8.0</td>\n",
       "      <td>39.0</td>\n",
       "      <td>48.0</td>\n",
       "      <td>27.0</td>\n",
       "      <td>24.0</td>\n",
       "      <td>NaN</td>\n",
       "    </tr>\n",
       "    <tr>\n",
       "      <th>2018-01-01</th>\n",
       "      <td>NaN</td>\n",
       "      <td>NaN</td>\n",
       "      <td>NaN</td>\n",
       "      <td>NaN</td>\n",
       "      <td>NaN</td>\n",
       "      <td>NaN</td>\n",
       "      <td>NaN</td>\n",
       "      <td>4.0</td>\n",
       "      <td>9.0</td>\n",
       "      <td>12.0</td>\n",
       "      <td>11.0</td>\n",
       "      <td>5.0</td>\n",
       "      <td>NaN</td>\n",
       "    </tr>\n",
       "    <tr>\n",
       "      <th>2018-02-01</th>\n",
       "      <td>NaN</td>\n",
       "      <td>NaN</td>\n",
       "      <td>NaN</td>\n",
       "      <td>NaN</td>\n",
       "      <td>NaN</td>\n",
       "      <td>NaN</td>\n",
       "      <td>NaN</td>\n",
       "      <td>NaN</td>\n",
       "      <td>4.0</td>\n",
       "      <td>9.0</td>\n",
       "      <td>5.0</td>\n",
       "      <td>7.0</td>\n",
       "      <td>NaN</td>\n",
       "    </tr>\n",
       "    <tr>\n",
       "      <th>2018-03-01</th>\n",
       "      <td>NaN</td>\n",
       "      <td>NaN</td>\n",
       "      <td>NaN</td>\n",
       "      <td>NaN</td>\n",
       "      <td>NaN</td>\n",
       "      <td>NaN</td>\n",
       "      <td>NaN</td>\n",
       "      <td>NaN</td>\n",
       "      <td>NaN</td>\n",
       "      <td>5.0</td>\n",
       "      <td>12.0</td>\n",
       "      <td>19.0</td>\n",
       "      <td>NaN</td>\n",
       "    </tr>\n",
       "    <tr>\n",
       "      <th>2018-04-01</th>\n",
       "      <td>NaN</td>\n",
       "      <td>NaN</td>\n",
       "      <td>NaN</td>\n",
       "      <td>NaN</td>\n",
       "      <td>NaN</td>\n",
       "      <td>NaN</td>\n",
       "      <td>NaN</td>\n",
       "      <td>NaN</td>\n",
       "      <td>NaN</td>\n",
       "      <td>NaN</td>\n",
       "      <td>5.0</td>\n",
       "      <td>18.0</td>\n",
       "      <td>NaN</td>\n",
       "    </tr>\n",
       "    <tr>\n",
       "      <th>2018-05-01</th>\n",
       "      <td>NaN</td>\n",
       "      <td>NaN</td>\n",
       "      <td>NaN</td>\n",
       "      <td>NaN</td>\n",
       "      <td>NaN</td>\n",
       "      <td>NaN</td>\n",
       "      <td>NaN</td>\n",
       "      <td>NaN</td>\n",
       "      <td>NaN</td>\n",
       "      <td>NaN</td>\n",
       "      <td>NaN</td>\n",
       "      <td>5.0</td>\n",
       "      <td>NaN</td>\n",
       "    </tr>\n",
       "    <tr>\n",
       "      <th>2018-06-01</th>\n",
       "      <td>NaN</td>\n",
       "      <td>NaN</td>\n",
       "      <td>NaN</td>\n",
       "      <td>NaN</td>\n",
       "      <td>NaN</td>\n",
       "      <td>NaN</td>\n",
       "      <td>NaN</td>\n",
       "      <td>NaN</td>\n",
       "      <td>NaN</td>\n",
       "      <td>NaN</td>\n",
       "      <td>NaN</td>\n",
       "      <td>NaN</td>\n",
       "      <td>3.0</td>\n",
       "    </tr>\n",
       "  </tbody>\n",
       "</table>\n",
       "</div>"
      ],
      "text/plain": [
       "order_month        2017-06-01  2017-07-01  2017-08-01  2017-09-01  2017-10-01  \\\n",
       "first_order_month                                                               \n",
       "2017-06-01                5.0        16.0        18.0        36.0        24.0   \n",
       "2017-07-01                NaN         6.0        12.0        21.0        11.0   \n",
       "2017-08-01                NaN         NaN         5.0        11.0        12.0   \n",
       "2017-09-01                NaN         NaN         NaN         6.0        22.0   \n",
       "2017-10-01                NaN         NaN         NaN         NaN         5.0   \n",
       "2017-11-01                NaN         NaN         NaN         NaN         NaN   \n",
       "2017-12-01                NaN         NaN         NaN         NaN         NaN   \n",
       "2018-01-01                NaN         NaN         NaN         NaN         NaN   \n",
       "2018-02-01                NaN         NaN         NaN         NaN         NaN   \n",
       "2018-03-01                NaN         NaN         NaN         NaN         NaN   \n",
       "2018-04-01                NaN         NaN         NaN         NaN         NaN   \n",
       "2018-05-01                NaN         NaN         NaN         NaN         NaN   \n",
       "2018-06-01                NaN         NaN         NaN         NaN         NaN   \n",
       "\n",
       "order_month        2017-11-01  2017-12-01  2018-01-01  2018-02-01  2018-03-01  \\\n",
       "first_order_month                                                               \n",
       "2017-06-01               22.0        31.0        25.0        19.0        27.0   \n",
       "2017-07-01                7.0         8.0         6.0         7.0         7.0   \n",
       "2017-08-01               12.0        17.0        12.0        10.0        13.0   \n",
       "2017-09-01               13.0       139.0        20.0        26.0        27.0   \n",
       "2017-10-01               11.0         7.0         7.0         7.0         7.0   \n",
       "2017-11-01                5.0         7.0         7.0        13.0         7.0   \n",
       "2017-12-01                NaN         5.0         8.0        39.0        48.0   \n",
       "2018-01-01                NaN         NaN         4.0         9.0        12.0   \n",
       "2018-02-01                NaN         NaN         NaN         4.0         9.0   \n",
       "2018-03-01                NaN         NaN         NaN         NaN         5.0   \n",
       "2018-04-01                NaN         NaN         NaN         NaN         NaN   \n",
       "2018-05-01                NaN         NaN         NaN         NaN         NaN   \n",
       "2018-06-01                NaN         NaN         NaN         NaN         NaN   \n",
       "\n",
       "order_month        2018-04-01  2018-05-01  2018-06-01  \n",
       "first_order_month                                      \n",
       "2017-06-01               26.0        10.0         NaN  \n",
       "2017-07-01               13.0        12.0         NaN  \n",
       "2017-08-01               21.0         8.0         NaN  \n",
       "2017-09-01               17.0        11.0         NaN  \n",
       "2017-10-01                7.0         7.0         NaN  \n",
       "2017-11-01                5.0         8.0         NaN  \n",
       "2017-12-01               27.0        24.0         NaN  \n",
       "2018-01-01               11.0         5.0         NaN  \n",
       "2018-02-01                5.0         7.0         NaN  \n",
       "2018-03-01               12.0        19.0         NaN  \n",
       "2018-04-01                5.0        18.0         NaN  \n",
       "2018-05-01                NaN         5.0         NaN  \n",
       "2018-06-01                NaN         NaN         3.0  "
      ]
     },
     "execution_count": 57,
     "metadata": {},
     "output_type": "execute_result"
    }
   ],
   "source": [
    "orders_grouped_by_cohorts.pivot_table(index='first_order_month', columns='order_month', values='revenue_per_user', aggfunc='mean')"
   ]
  },
  {
   "cell_type": "markdown",
   "metadata": {},
   "source": [
    "\n",
    "#### ¿Cuánto dinero traen? (LTV)"
   ]
  },
  {
   "cell_type": "markdown",
   "metadata": {},
   "source": [
    "Obtenemos la fecha del primer pedido y el mes de cada cliente para conocer su tiempo de vida como cliente."
   ]
  },
  {
   "cell_type": "code",
   "execution_count": 58,
   "metadata": {},
   "outputs": [],
   "source": [
    "first_orders = orders.groupby('uid').agg({'buy_ts': 'min'}).reset_index()\n",
    "first_orders.columns = ['uid', 'first_order_date']\n",
    "orders['month'] = orders['buy_ts'].astype('datetime64[M]')"
   ]
  },
  {
   "cell_type": "code",
   "execution_count": 59,
   "metadata": {},
   "outputs": [],
   "source": [
    "first_orders['first_order_date'] = first_orders['first_order_date'].dt.date\n",
    "first_orders['first_order_month'] = first_orders['first_order_date'].astype('datetime64[M]')"
   ]
  },
  {
   "cell_type": "code",
   "execution_count": 60,
   "metadata": {},
   "outputs": [],
   "source": [
    "orders = orders.merge(first_orders, on =['uid','first_order_month'])\n",
    "cohort_size = orders.groupby('first_order_month').agg({'uid': 'nunique'}).reset_index()"
   ]
  },
  {
   "cell_type": "markdown",
   "metadata": {},
   "source": [
    "Encontramos la cantidad de compradores únicos y la suma de ingresos de cada cohorte."
   ]
  },
  {
   "cell_type": "code",
   "execution_count": 62,
   "metadata": {},
   "outputs": [],
   "source": [
    "cohort_size.columns = ['first_order_month','n_purchasers']\n",
    "cohort_revenue = orders.groupby(['first_order_month', 'month']).agg({'revenue': 'sum'}).reset_index()"
   ]
  },
  {
   "cell_type": "code",
   "execution_count": 63,
   "metadata": {},
   "outputs": [],
   "source": [
    "revenue = pd.merge(cohort_size, cohort_revenue, on='first_order_month')\n",
    "revenue['age'] = (revenue['month'] - revenue['first_order_month']) / np.timedelta64(1, 'M')\n",
    "revenue['age'] = revenue['age'].round().astype('int')"
   ]
  },
  {
   "cell_type": "markdown",
   "metadata": {},
   "source": [
    "Una vez que encontramos la cohorte/edad de los clientes, podemos calcular el valor de vida de los clientes dividiendo los ingresos por la cantidad de clientes en dicha cohorte."
   ]
  },
  {
   "cell_type": "code",
   "execution_count": 64,
   "metadata": {},
   "outputs": [],
   "source": [
    "revenue['ltv'] = revenue['revenue'] / revenue['n_purchasers']\n",
    "ltv = revenue.pivot_table(index='first_order_month',columns='age',values='ltv', aggfunc='mean')\n",
    "ltv_sum = ltv.cumsum(axis=1)"
   ]
  },
  {
   "cell_type": "code",
   "execution_count": 65,
   "metadata": {},
   "outputs": [
    {
     "data": {
      "image/png": "[encoded data removed]",
      "text/plain": [
       "<Figure size 1008x576 with 2 Axes>"
      ]
     },
     "metadata": {},
     "output_type": "display_data"
    }
   ],
   "source": [
    "plt.figure(figsize=(14, 8))\n",
    "plt.title('LTV de cada cohorte')\n",
    "sns.heatmap(ltv_sum, annot=True, fmt='.2f', linewidths=1, linecolor='gray', cmap=\"Spectral\").set_yticklabels(ltv_sum.index.strftime('%Y-%m'))\n",
    "plt.show()"
   ]
  },
  {
   "cell_type": "markdown",
   "metadata": {},
   "source": [
    "## Marketing:\n",
    " "
   ]
  },
  {
   "cell_type": "markdown",
   "metadata": {},
   "source": [
    "#### ¿Cuánto dinero se gastó? (Total/por fuente de adquisición/a lo largo del tiempo)"
   ]
  },
  {
   "cell_type": "code",
   "execution_count": 66,
   "metadata": {},
   "outputs": [],
   "source": [
    "costs['expense_month'] = costs['dt'].astype('datetime64[M]')"
   ]
  },
  {
   "cell_type": "code",
   "execution_count": 67,
   "metadata": {},
   "outputs": [],
   "source": [
    "monthly_costs = costs.groupby('expense_month').sum().reset_index()"
   ]
  },
  {
   "cell_type": "code",
   "execution_count": 68,
   "metadata": {},
   "outputs": [],
   "source": [
    "monthly_costs['order_month'] = monthly_costs['expense_month'].dt.strftime('%Y-%m')"
   ]
  },
  {
   "cell_type": "code",
   "execution_count": 69,
   "metadata": {},
   "outputs": [
    {
     "data": {
      "image/png": "[encoded data removed]",
      "text/plain": [
       "<Figure size 1080x360 with 1 Axes>"
      ]
     },
     "metadata": {},
     "output_type": "display_data"
    }
   ],
   "source": [
    "plt.figure(figsize=(15,5))\n",
    "plt.title(\"Costos mensuales totales de marketing\")\n",
    "\n",
    "sns.set_style(\"whitegrid\")\n",
    "sns.barplot(data=monthly_costs, x='expense_month', y='costs', palette=\"Accent\").set_xticklabels(monthly_costs.order_month)\n",
    "\n",
    "plt.xlabel('Mes')\n",
    "plt.ylabel('Costos totales')\n",
    "plt.xticks(rotation=45)\n",
    "plt.show();"
   ]
  },
  {
   "cell_type": "code",
   "execution_count": 70,
   "metadata": {},
   "outputs": [
    {
     "name": "stdout",
     "output_type": "stream",
     "text": [
      "Los costos totales de marketing son  $ 329131\n",
      "Los costos mensuales promedio de marketing son $ 27427\n"
     ]
    }
   ],
   "source": [
    "print('Los costos totales de marketing son  $', int(costs.costs.sum()))\n",
    "print('Los costos mensuales promedio de marketing son $', int(monthly_costs['costs'].mean()))"
   ]
  },
  {
   "cell_type": "markdown",
   "metadata": {},
   "source": [
    "Cada mes, el departamento de marketing de Yandex Afisha gasta entre 15.000 y 40.000 dólares, con un promedio de 27.427 dólares. En el siguiente apartado descubriremos si merece la pena"
   ]
  },
  {
   "cell_type": "markdown",
   "metadata": {},
   "source": [
    "#### ¿Cuál fue el costo de adquisición de clientes de cada una de las fuentes?"
   ]
  },
  {
   "cell_type": "code",
   "execution_count": 71,
   "metadata": {},
   "outputs": [
    {
     "data": {
      "image/png": "[encoded data removed]",
      "text/plain": [
       "<Figure size 1080x360 with 1 Axes>"
      ]
     },
     "metadata": {},
     "output_type": "display_data"
    }
   ],
   "source": [
    "source_costs = costs.groupby('source_id')['costs'].sum().reset_index()\n",
    "\n",
    "source_costs.plot(x='source_id', y='costs', kind='bar', figsize=(15, 5), color='r', legend=False)\n",
    "\n",
    "plt.title(\"Costos totales para cada fuente\")\n",
    "plt.xlabel('Fuente')\n",
    "plt.ylabel('Costos totales');"
   ]
  },
  {
   "cell_type": "markdown",
   "metadata": {},
   "source": [
    "Al observar el gráfico de barras, podemos ver que la fuente 3 le está costando al departamento de marketing significativamente más que cualquier otra fuente, en total $140 000. Las fuentes 9 y 10 gastan igualmente poco, menos de 20.000 dólares."
   ]
  },
  {
   "cell_type": "markdown",
   "metadata": {},
   "source": [
    "Costos mensuales de marketing por fuente"
   ]
  },
  {
   "cell_type": "code",
   "execution_count": 72,
   "metadata": {},
   "outputs": [],
   "source": [
    "total_costs = costs.groupby(['expense_month','source_id']).sum().reset_index()"
   ]
  },
  {
   "cell_type": "code",
   "execution_count": 73,
   "metadata": {},
   "outputs": [
    {
     "data": {
      "image/png": "[encoded data removed]",
      "text/plain": [
       "<Figure size 1080x360 with 1 Axes>"
      ]
     },
     "metadata": {},
     "output_type": "display_data"
    }
   ],
   "source": [
    "plt.figure(figsize=(15,5))\n",
    "plt.title('Costos de marketing para cada mes y fuente')\n",
    "plt.xlabel('Mes')\n",
    "plt.ylabel('Costos')\n",
    "\n",
    "sns.set_style('whitegrid')\n",
    "sns.lineplot(data=total_costs, x='expense_month', y='costs', legend='full', hue='source_id', palette='CMRmap')\n",
    "\n",
    "plt.show();"
   ]
  },
  {
   "cell_type": "markdown",
   "metadata": {},
   "source": [
    "La fuente 3 le cuesta al departamento de marketing entre \\\\$6000 y \\\\$17500 cada mes, mientras que otras fuentes siempre cuestan menos de \\\\$7500."
   ]
  },
  {
   "cell_type": "markdown",
   "metadata": {},
   "source": [
    "#### ¿Cuán rentables eran las inversiones? (ROMI)"
   ]
  },
  {
   "cell_type": "markdown",
   "metadata": {},
   "source": [
    "Realicemos los cálculos para los cohortes y determinemos la cantidad de meses que cada cohorte requiere para cubrir los gastos de marketing. Calcularé el CAC para cada cohorte. Primero encontraremos los gastos totales de cada mes, luego los dividiremos por la cantidad de clientes en cada cohorte."
   ]
  },
  {
   "cell_type": "code",
   "execution_count": 74,
   "metadata": {},
   "outputs": [],
   "source": [
    "costs['Month'] = costs['dt'].astype('datetime64[M]')\n",
    "total_costs = costs.groupby(['Month','source_id']).sum().reset_index()\n",
    "monthly_costs = costs.groupby('Month').sum().reset_index()\n",
    "monthly_costs['order_month'] = monthly_costs['Month'].dt.strftime('%Y-%m')"
   ]
  },
  {
   "cell_type": "code",
   "execution_count": 75,
   "metadata": {},
   "outputs": [],
   "source": [
    "cac = pd.merge(revenue, monthly_costs, left_on='first_order_month', right_on='Month')"
   ]
  },
  {
   "cell_type": "code",
   "execution_count": 76,
   "metadata": {},
   "outputs": [],
   "source": [
    "cac['cac'] = cac['costs'] / cac['n_purchasers']"
   ]
  },
  {
   "cell_type": "code",
   "execution_count": 77,
   "metadata": {},
   "outputs": [
    {
     "name": "stdout",
     "output_type": "stream",
     "text": [
      "<class 'pandas.core.frame.DataFrame'>\n",
      "Int64Index: 78 entries, 0 to 77\n",
      "Data columns (total 11 columns):\n",
      " #   Column             Non-Null Count  Dtype         \n",
      "---  ------             --------------  -----         \n",
      " 0   first_order_month  78 non-null     datetime64[ns]\n",
      " 1   n_purchasers       78 non-null     int64         \n",
      " 2   month              78 non-null     datetime64[ns]\n",
      " 3   revenue            78 non-null     float64       \n",
      " 4   age                78 non-null     int64         \n",
      " 5   ltv                78 non-null     float64       \n",
      " 6   Month              78 non-null     datetime64[ns]\n",
      " 7   source_id          78 non-null     int64         \n",
      " 8   costs              78 non-null     float64       \n",
      " 9   order_month        78 non-null     object        \n",
      " 10  cac                78 non-null     float64       \n",
      "dtypes: datetime64[ns](3), float64(4), int64(3), object(1)\n",
      "memory usage: 7.3+ KB\n"
     ]
    }
   ],
   "source": [
    "cac.info()"
   ]
  },
  {
   "cell_type": "code",
   "execution_count": 78,
   "metadata": {},
   "outputs": [],
   "source": [
    "cac['tick_month'] = cac['month'].dt.strftime('%Y-%m')"
   ]
  },
  {
   "cell_type": "markdown",
   "metadata": {},
   "source": [
    "Encontremos ROMI (retorno de la inversión en marketing) dividiendo LTV por CAC."
   ]
  },
  {
   "cell_type": "code",
   "execution_count": 79,
   "metadata": {},
   "outputs": [],
   "source": [
    "cac['romi'] = cac['ltv'] / cac['cac']"
   ]
  },
  {
   "cell_type": "code",
   "execution_count": 80,
   "metadata": {},
   "outputs": [],
   "source": [
    "romi = cac.pivot_table( index='first_order_month',  columns='age',  values='romi', aggfunc='mean')\n",
    "sum_romi = romi.cumsum(axis=1)"
   ]
  },
  {
   "cell_type": "code",
   "execution_count": 81,
   "metadata": {},
   "outputs": [
    {
     "data": {
      "image/png": "[encoded data removed]",
      "text/plain": [
       "<Figure size 936x648 with 2 Axes>"
      ]
     },
     "metadata": {},
     "output_type": "display_data"
    }
   ],
   "source": [
    "sns.set(style='white')\n",
    "plt.figure(figsize=(13, 9))\n",
    "plt.title('Retorno de la inversión en marketing de cada cohorte')\n",
    "sns.heatmap(sum_romi, annot=True, fmt='.2f', linewidths=1, linecolor='gray', cmap=\"flare\").set_yticklabels(sum_romi.index.strftime('%Y-%m'))\n",
    "plt.show()"
   ]
  },
  {
   "cell_type": "markdown",
   "metadata": {},
   "source": [
    "Podemos ver que solo las cohortes de junio de 2017 y septiembre de 2017 pagan los costos de adquisición. Se necesitan 6 meses para la cohorte de junio de 2017 y solo 3 meses para la de septiembre de 2017.\n",
    "\n",
    "Ahora vemos el romi por diversas fuentes "
   ]
  },
  {
   "cell_type": "code",
   "execution_count": 82,
   "metadata": {},
   "outputs": [],
   "source": [
    "combined_data = orders.merge(visits[['uid', 'source_id']], on='uid')\n",
    "revenue_per_source = combined_data.groupby('source_id')['revenue'].sum().reset_index()"
   ]
  },
  {
   "cell_type": "code",
   "execution_count": 83,
   "metadata": {},
   "outputs": [],
   "source": [
    "total_costs = costs.groupby('source_id')['costs'].sum().reset_index()\n",
    "customers_per_source = orders.merge(visits, on='uid').groupby('source_id')['uid'].nunique().reset_index()\n",
    "cac = pd.merge(total_costs, customers_per_source, on='source_id')\n",
    "cac['cac'] = cac['costs'] / cac['uid']"
   ]
  },
  {
   "cell_type": "code",
   "execution_count": 84,
   "metadata": {},
   "outputs": [
    {
     "data": {
      "text/html": [
       "<div>\n",
       "<style scoped>\n",
       "    .dataframe tbody tr th:only-of-type {\n",
       "        vertical-align: middle;\n",
       "    }\n",
       "\n",
       "    .dataframe tbody tr th {\n",
       "        vertical-align: top;\n",
       "    }\n",
       "\n",
       "    .dataframe thead th {\n",
       "        text-align: right;\n",
       "    }\n",
       "</style>\n",
       "<table border=\"1\" class=\"dataframe\">\n",
       "  <thead>\n",
       "    <tr style=\"text-align: right;\">\n",
       "      <th></th>\n",
       "      <th>source_id</th>\n",
       "      <th>revenue</th>\n",
       "      <th>cac</th>\n",
       "      <th>ltv</th>\n",
       "      <th>romi</th>\n",
       "    </tr>\n",
       "  </thead>\n",
       "  <tbody>\n",
       "    <tr>\n",
       "      <th>0</th>\n",
       "      <td>1</td>\n",
       "      <td>2.298200e+06</td>\n",
       "      <td>2.918642</td>\n",
       "      <td>787420.928805</td>\n",
       "      <td>787419.928805</td>\n",
       "    </tr>\n",
       "    <tr>\n",
       "      <th>1</th>\n",
       "      <td>2</td>\n",
       "      <td>2.638189e+06</td>\n",
       "      <td>5.859828</td>\n",
       "      <td>450216.188628</td>\n",
       "      <td>450215.188628</td>\n",
       "    </tr>\n",
       "    <tr>\n",
       "      <th>2</th>\n",
       "      <td>3</td>\n",
       "      <td>2.966880e+05</td>\n",
       "      <td>10.206676</td>\n",
       "      <td>29068.030804</td>\n",
       "      <td>29067.030804</td>\n",
       "    </tr>\n",
       "    <tr>\n",
       "      <th>3</th>\n",
       "      <td>4</td>\n",
       "      <td>4.966902e+05</td>\n",
       "      <td>4.284965</td>\n",
       "      <td>115914.650406</td>\n",
       "      <td>115913.650406</td>\n",
       "    </tr>\n",
       "    <tr>\n",
       "      <th>4</th>\n",
       "      <td>5</td>\n",
       "      <td>1.181477e+06</td>\n",
       "      <td>5.096209</td>\n",
       "      <td>231834.508383</td>\n",
       "      <td>231833.508383</td>\n",
       "    </tr>\n",
       "    <tr>\n",
       "      <th>5</th>\n",
       "      <td>9</td>\n",
       "      <td>3.634225e+04</td>\n",
       "      <td>1.975471</td>\n",
       "      <td>18396.753642</td>\n",
       "      <td>18395.753642</td>\n",
       "    </tr>\n",
       "    <tr>\n",
       "      <th>6</th>\n",
       "      <td>10</td>\n",
       "      <td>1.461923e+04</td>\n",
       "      <td>3.283976</td>\n",
       "      <td>4451.685583</td>\n",
       "      <td>4450.685583</td>\n",
       "    </tr>\n",
       "  </tbody>\n",
       "</table>\n",
       "</div>"
      ],
      "text/plain": [
       "   source_id       revenue        cac            ltv           romi\n",
       "0          1  2.298200e+06   2.918642  787420.928805  787419.928805\n",
       "1          2  2.638189e+06   5.859828  450216.188628  450215.188628\n",
       "2          3  2.966880e+05  10.206676   29068.030804   29067.030804\n",
       "3          4  4.966902e+05   4.284965  115914.650406  115913.650406\n",
       "4          5  1.181477e+06   5.096209  231834.508383  231833.508383\n",
       "5          9  3.634225e+04   1.975471   18396.753642   18395.753642\n",
       "6         10  1.461923e+04   3.283976    4451.685583    4450.685583"
      ]
     },
     "execution_count": 84,
     "metadata": {},
     "output_type": "execute_result"
    }
   ],
   "source": [
    "ltv_per_source = revenue_per_source.merge(cac[['source_id', 'cac']], on='source_id')\n",
    "ltv_per_source['ltv'] = ltv_per_source['revenue'] / ltv_per_source['cac']\n",
    "ltv_per_source['romi'] = (ltv_per_source['revenue'] - ltv_per_source['cac'])  \n",
    "ltv_per_source['romi'] =ltv_per_source['romi'] /ltv_per_source['cac']\n",
    "ltv_per_source"
   ]
  },
  {
   "cell_type": "code",
   "execution_count": 85,
   "metadata": {},
   "outputs": [
    {
     "data": {
      "image/png": "[encoded data removed]",
      "text/plain": [
       "<Figure size 720x432 with 2 Axes>"
      ]
     },
     "metadata": {},
     "output_type": "display_data"
    }
   ],
   "source": [
    "sns.set(style='white')\n",
    "plt.figure(figsize=(10, 6))\n",
    "sns.heatmap(ltv_per_source.pivot_table(index='source_id', values='romi', aggfunc='mean'),annot=True,fmt='.2f',cmap='Spectral',linewidths=1,linecolor='gray',cbar_kws={'label': 'ROMI'})\n",
    "plt.title('Retorno de la inversión en marketing (ROMI) por fuente')\n",
    "plt.xlabel('Fuente por ID')\n",
    "plt.ylabel('ROMI')\n",
    "plt.show()"
   ]
  },
  {
   "cell_type": "markdown",
   "metadata": {},
   "source": [
    "Si tenemos  LTV y el ROMI tienen valores parecidos, podría indicar una alineación positiva entre la inversión en marketing y el valor generado por los clientes a lo largo del tiempo. \n",
    "\n",
    "Eficiencia en la inversión de marketing: Un LTV alto en comparación con el costo de adquisición de clientes (CAC) resultaría en un ROMI positivo. Esto sugiere que la inversión en marketing está generando un retorno favorable en términos de ingresos a lo largo del tiempo.\n",
    "Buena segmentación de audiencia: Si el ROMI es alto y el LTV también es alto, podría indicar que la empresa está dirigida a segmentos de audiencia que son rentables y tienen un alto potencial de valor a largo plazo.\n",
    "Calidad de clientes adquiridos: Un LTV y un ROMI similares podrían sugerir que la empresa está adquiriendo clientes de alta calidad a través de sus esfuerzos de marketing, es decir, clientes que generan un valor significativo y sostenido para la empresa en relación con el costo de adquisición."
   ]
  },
  {
   "cell_type": "markdown",
   "metadata": {},
   "source": [
    " ## Conclusiones generales"
   ]
  },
  {
   "cell_type": "markdown",
   "metadata": {},
   "source": [
    "Preparación de datos:\n",
    "\n",
    "- Antes del análisis, se realizó una preparación exhaustiva de los datos, incluyendo la corrección de problemas, cambios en los tipos de datos y la adición de información relevante.\n",
    "\n",
    "Análisis exploratorio de datos: \n",
    "\n",
    "- Se examinaron varios aspectos del comportamiento del usuario, como la duración promedio de la sesión, la retención de usuarios, el tiempo entre la visita y la compra, y los patrones de compra periódica. Se observaron picos en los pedidos diarios y semanales, posiblemente relacionados con eventos específicos en la ciudad.\n",
    "Costos de marketing: \n",
    "\n",
    "- Se identificó que la fuente 3 está incurriendo en los mayores costos de marketing, con un gasto significativo que supera el retorno en la mayoría de los casos.\n",
    "\n",
    "Métricas comerciales clave:\n",
    "\n",
    "- Se calcularon y analizaron métricas importantes como la tasa de conversión, el tamaño promedio de compra, el valor de vida del cliente y el costo de adquisición de clientes. Estos datos proporcionan información crucial sobre el rendimiento general del negocio.\n",
    "\n",
    "___\n",
    "\n"
   ]
  },
  {
   "cell_type": "code",
   "execution_count": null,
   "metadata": {},
   "outputs": [],
   "source": []
  }
 ],
 "metadata": {
  "kernelspec": {
   "display_name": "Python 3 (ipykernel)",
   "language": "python",
   "name": "python3"
  },
  "language_info": {
   "codemirror_mode": {
    "name": "ipython",
    "version": 3
   },
   "file_extension": ".py",
   "mimetype": "text/x-python",
   "name": "python",
   "nbconvert_exporter": "python",
   "pygments_lexer": "ipython3",
   "version": "3.12.4"
  },
  "toc": {
   "base_numbering": 1,
   "nav_menu": {},
   "number_sections": true,
   "sideBar": true,
   "skip_h1_title": true,
   "title_cell": "Table of Contents",
   "title_sidebar": "Contents",
   "toc_cell": false,
   "toc_position": {
    "height": "calc(100% - 180px)",
    "left": "10px",
    "top": "150px",
    "width": "263.273px"
   },
   "toc_section_display": true,
   "toc_window_display": false
  }
 },
 "nbformat": 4,
 "nbformat_minor": 4
}
